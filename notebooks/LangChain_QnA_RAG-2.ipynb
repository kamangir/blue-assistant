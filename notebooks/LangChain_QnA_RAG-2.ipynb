{
 "cells": [
  {
   "cell_type": "markdown",
   "metadata": {},
   "source": [
    "# LongChain Q&A RAG\n",
    "\n",
    "based on [LangChain_QnA_RAG.ipynb](https://github.com/mishragauravgm/qna-faiss-rag/blob/main/LangChain_QnA_RAG.ipynb)"
   ]
  },
  {
   "cell_type": "markdown",
   "metadata": {
    "id": "HrCvmqEoNhhM"
   },
   "source": [
    "Here are the steps involved in this:\n",
    "\n",
    "\n",
    "\n",
    "1.   Read a pdf from a file location\n",
    "2.   Convert those pdf into chunks\n",
    "3.   Store those chunks as embeddings using any embedding model\n",
    "4.   Read a question or prompt from the user\n",
    "\n",
    "    - Convert it into embedding too\n",
    "    - Run Faiss on the prompt with the existing embedding database\n",
    "    - Pass the k-nearest embeddings as a context through the prompt template\n",
    "5. Pass the context and the question to LLM and get the response."
   ]
  },
  {
   "cell_type": "code",
   "execution_count": 1,
   "metadata": {},
   "outputs": [
    {
     "name": "stderr",
     "output_type": "stream",
     "text": [
      "🧠  blue_assistant-4.390.1.abcli-9.566.1.blue_objects-5.335.1.blue_options-4.240.1.torch-2.2.2.Python 3.12.9.Darwin 23.6.0..Jupyter-Notebook,\n",
      "built on 20 March 2025, 19:23:50\n"
     ]
    }
   ],
   "source": [
    "from blueflow import notebooks\n",
    "\n",
    "from blue_options import string\n",
    "from blue_objects import objects\n",
    "\n",
    "from blue_assistant.host import signature\n",
    "from blue_assistant.env import HUGGINGFACEHUB_API_TOKEN\n",
    "from blue_assistant.RAG.input import pdf_to_faiss\n",
    "from blue_assistant.RAG.output import answer\n",
    "\n",
    "from blue_assistant.logger import logger\n",
    "\n",
    "logger.info(f\"{'.'.join(signature())},\\nbuilt on {string.pretty_date()}\")"
   ]
  },
  {
   "cell_type": "code",
   "execution_count": 2,
   "metadata": {
    "executionInfo": {
     "elapsed": 117589,
     "status": "ok",
     "timestamp": 1705128910874,
     "user": {
      "displayName": "Gaurav Mishra",
      "userId": "05225046088428816217"
     },
     "user_tz": 300
    },
    "id": "tAXWSaqQk-j_"
   },
   "outputs": [
    {
     "name": "stderr",
     "output_type": "stream",
     "text": [
      "/Users/kamangir/git/blue-assistant/blue_assistant/RAG/input.py:26: LangChainDeprecationWarning: The class `HuggingFaceEmbeddings` was deprecated in LangChain 0.2.2 and will be removed in 1.0. An updated version of the class exists in the :class:`~langchain-huggingface package and should be used instead. To use it run `pip install -U :class:`~langchain-huggingface` and import as `from :class:`~langchain_huggingface import HuggingFaceEmbeddings``.\n",
      "  embeddings = HuggingFaceEmbeddings()\n",
      "/Users/kamangir/git/blue-assistant/blue_assistant/RAG/input.py:26: LangChainDeprecationWarning: Default values for HuggingFaceEmbeddings.model_name were deprecated in LangChain 0.2.16 and will be removed in 0.4.0. Explicitly pass a model_name to the HuggingFaceEmbeddings constructor instead.\n",
      "  embeddings = HuggingFaceEmbeddings()\n",
      "/Users/kamangir/miniconda3/lib/python3.12/site-packages/tqdm/auto.py:21: TqdmWarning: IProgress not found. Please update jupyter and ipywidgets. See https://ipywidgets.readthedocs.io/en/stable/user_install.html\n",
      "  from .autonotebook import tqdm as notebook_tqdm\n",
      "sentence_transformers.SentenceTransformer Use pytorch device_name: mps\n",
      "sentence_transformers.SentenceTransformer Load pretrained SentenceTransformer: sentence-transformers/all-mpnet-base-v2\n",
      "faiss.loader Loading faiss.\n",
      "faiss.loader Successfully loaded faiss.\n",
      "faiss Failed to load GPU Faiss: name 'GpuIndexIVFFlat' is not defined. Will not load constructor refs for GPU indexes.\n"
     ]
    }
   ],
   "source": [
    "db = pdf_to_faiss('/Users/kamangir/Desktop/giza.pdf')"
   ]
  },
  {
   "cell_type": "code",
   "execution_count": 3,
   "metadata": {
    "colab": {
     "base_uri": "https://localhost:8080/"
    },
    "executionInfo": {
     "elapsed": 290,
     "status": "ok",
     "timestamp": 1705129121972,
     "user": {
      "displayName": "Gaurav Mishra",
      "userId": "05225046088428816217"
     },
     "user_tz": 300
    },
    "id": "6a_dMxVblHU9",
    "outputId": "d1ce899f-429d-4cae-a717-a2544d6fd61c"
   },
   "outputs": [
    {
     "name": "stderr",
     "output_type": "stream",
     "text": [
      "/Users/kamangir/git/blue-assistant/blue_assistant/RAG/output.py:9: LangChainDeprecationWarning: The class `HuggingFaceHub` was deprecated in LangChain 0.0.21 and will be removed in 1.0. An updated version of the class exists in the :class:`~langchain-huggingface package and should be used instead. To use it run `pip install -U :class:`~langchain-huggingface` and import as `from :class:`~langchain_huggingface import HuggingFaceEndpoint``.\n",
      "  model = HuggingFaceHub(\n",
      "/Users/kamangir/git/blue-assistant/blue_assistant/RAG/output.py:33: LangChainDeprecationWarning: The class `LLMChain` was deprecated in LangChain 0.1.17 and will be removed in 1.0. Use :meth:`~RunnableSequence, e.g., `prompt | llm`` instead.\n",
      "  chain = LLMChain(\n",
      "/Users/kamangir/git/blue-assistant/blue_assistant/RAG/output.py:41: LangChainDeprecationWarning: The method `Chain.run` was deprecated in langchain 0.1.0 and will be removed in 1.0. Use :meth:`~invoke` instead.\n",
      "  chain.run(\n",
      "/Users/kamangir/miniconda3/lib/python3.12/site-packages/huggingface_hub/utils/_deprecation.py:131: FutureWarning: 'post' (from 'huggingface_hub.inference._client') is deprecated and will be removed from version '0.31.0'. Making direct POST requests to the inference server is not supported anymore. Please use task methods instead (e.g. `InferenceClient.chat_completion`). If your use case is not supported, please open an issue in https://github.com/huggingface/huggingface_hub.\n",
      "  warnings.warn(warning_message, FutureWarning)\n"
     ]
    },
    {
     "name": "stdout",
     "output_type": "stream",
     "text": [
      "Answer the following QUESTION based on the CONTEXT\n",
      "    given. If you do not know the answer and the CONTEXT doesn't\n",
      "    contain the answer truthfully say \"I don't know\"\n",
      "\n",
      "        CONTEXT:[Document(id='95bf7f04-cd5c-4224-b2d4-21ea74b6dc31', metadata={}, page_content='[32] DirectoryStackBuiltins(BashReferenceManual). https://www.gnu.org/software/bash/manual/html_node/ Direc \\n[33] nano - Text editor. https://www.nano-editor.org/ .\\n[34] argparse — Parser for command-line options, arguments and s ub-commands — Python 3.12.4\\ndocumentation. https://docs.python.org/3/library/argparse.html .\\n[35] Click - The Pallets Projects. https://palletsprojects.com/p/click/ .\\n[36] Python Fire. https://google.github.io/python-fire/ .\\n[37] Namespace-Wikipedia. https://en.wikipedia.org/wiki/Namespace#Emulating_n amespaces .\\n[38] Aliases(BashReferenceManual). https://www.gnu.org/software/bash/manual/html_node/ Aliases.html .\\n[39] Roy Thomas Fielding. Architectural Styles and the Design of Network-based Softw are Architec-\\ntures. University of California, Irvine, 2000.'), Document(id='80cf6905-abf1-4e06-98e1-a23718b779fa', metadata={}, page_content='Access, Automation, Analytics, AI\\nArash Abadpour - arash@abadpour.com\\nMarch 6, 2025\\n“... the four A’s that we’re after ... (1) Accessibility when I ask a quest ion I want to be able\\nto access the data that allows me to answer the question that I’m as king (2) Automation\\nour ability to make routine tasks that are presently done by humans so that they can be\\ndone by machines ... (3) Analytics we want to be able to generate insigh ts that might not\\notherwise be obvious to us (4) AI ... - James C. Slife , The Future of Warfare: Preparing\\nU.S. Military Forces for Competition and Contestation, GSF 2024 [ 1].”\\nAbstract\\nFirst, we develop a mathematical model to discuss the “Four A ’s” in Section 1. Then, we\\npropose expansions for Access and Automation in Sections 2and3, respectively. We brieﬂy'), Document(id='0592a57b-1c0b-4a11-b5fa-5adc02980943', metadata={}, page_content='the pointers as well. Object\\nMetadata Every object carries a metadata.yaml ﬁle that can be getandpostas a dictionary.\\n@metadata get key=<key> [.|<object-name>]\\n@metadata post <key> <value> - [.|<object-name>]\\nObject\\nTagsAn object can have many tags. A tag is key-value pair that is maintain ed in a system such as\\nMLﬂow[43] and issetandget, and can be searched,\\n@mlflow tags get [.|<object-name>] [--tag <tag>]\\n@mlflow tags search [<keyword-1>=<value-1>,<keyword-2> ,~<keyword-3>]\\n@mlflow tags set [.|<object-name>] [<keyword-1>=<value> ,<keyword-2>,~<keyword-3>]\\nObject\\nPersistenceObject are persisted on AWS S3 [ 19]. Objects can be downloaded, uploaded, and listed,\\n@download [filename=<filename>] [.|<object-name>]\\n@upload [filename=<filename>] [.|<object-name>]'), Document(id='c115f8da-aab6-4e9d-ae30-e4735eae3f33', metadata={}, page_content='[25] ShellParameterExpansion(BashReferenceManual). https://www.gnu.org/software/bash/manual/html_node/ Sh \\n[26] CommandSubstitution(BashReferenceManual). https://www.gnu.org/software/bash/manual/html_node/ Comman \\n8[27] ArithmeticExpansion(BashReferenceManual). https://www.gnu.org/software/bash/manual/html_node/ Arithmet \\n[28] WordSplitting(BashReferenceManual). https://www.gnu.org/software/bash/manual/html_node/ Word-Splittin \\n[29] BashStartupFiles(BashReferenceManual). https://www.gnu.org/software/bash/manual/html_node/ Filename- \\n[30] ShellSyntax(BashReferenceManual). https://www.gnu.org/software/bash/manual/html_node/ Shell-Syntax.h \\n[31] Deﬁnitions(BashReferenceManual): controloperator. https://www.gnu.org/software/bash/manual/html_node/ D'), Document(id='958b95bd-e475-4c4c-99aa-86a07b8117d3', metadata={}, page_content='[17] Cloud Computing Services - Amazon Web Services (AWS). awshttps://aws.amazon.com/ .\\n[18] UsetheDockercommandline-DockerDocs. https://docs.docker.com/engine/reference/commandlin e/cli/.\\n[19] Amazon S3 - Cloud Object Storage - AWS. https://aws.amazon.com/s3/ .\\n[20] Bash (unix shell) - wikipedia. https://en.wikipedia.org/wiki/Bash_(Unix_shell) .\\n[21] Whatisashell? (BashReferenceManual). https://www.gnu.org/software/bash/manual/html_node/ What-is-a-she \\n[22] ShellExpansions(BashReferenceManual). https://www.gnu.org/software/bash/manual/html_node/ Shell-Expan \\n[23] BraceExpansion(BashReferenceManual). https://www.gnu.org/software/bash/manual/html_node/ Brace-Expan \\n[24] TildeExpansion(BashReferenceManual). https://www.gnu.org/software/bash/manual/html_node/ Tilde-Expans'), Document(id='fa35f252-bdd0-4c8b-b89c-fa52bb862d52', metadata={}, page_content='vanwatch \\\\\\ningest \\\\\\ntarget=<target>,count=<count> \\\\\\n$object_name \\\\\\ndetect,count=<count>,gif,model=<model-id>,publish \\\\\\n--overwrite 1List of Ob-\\njectsA series of objects that are tagged by a unique tag to represent a list of objects. Or, the list\\nof objects may be maintained in the metadata of an object. This obj ect or tag expands to the\\nlist of objects, through tag or metadata mechanisms. We will review examples of this expansion in\\nSection5.2.Terraforming is the process of installing modules and adjusting the conﬁguration o f a Terraforming\\nshell or a machine for a speciﬁc purpose through running a series of commands. These commands\\nare often long and unintuitive and contain secrets and other enviro nment variables. Terraforming is'), Document(id='6b209d76-adfd-4ae4-a260-39e47fe85580', metadata={}, page_content='suchasgit[5]andfollowingacollectivepeer-reviewed pull-request [6] process. Eachoperatorcanaccess\\na set ofmachines on a system such as SageMaker [7] and create shellson them to run commands to\\nproduce objectswhich have an implicit or explicit value.\\nThe objective of every operator is to increase the quality and quan tity of the objects they generate.\\nTherefore, the operatorsare interested in mechanisms that ena ble them to build the commandsin ways\\nthat allow them to generate large quantities of objects that adher e to requirements that are known in\\nthe future from objects that may not exist yet. This is particularly important because commands run\\nother commands and some objects are intermediaries in generating other objects.'), Document(id='9c25890e-d46d-40dc-85e3-21874276b73d', metadata={}, page_content='environment. For example, an itemin aSTAC collection [41] (a datacube) or a dataset in Kaggle[42]\\nare objects. A curated dataset, a model trained on it, and the mo del’s predictions on a datacube, are\\nexamples of other objects. Object\\nPointers An object may be selected,\\n@select <object-name>\\nWhen<object-name> is selected, ‘ .’ expands to <object-name> . Similarly, ‘ ..’, ‘...’, and so\\non, as deep as needed, expand to the names of the previously selec ted object and the one before that.\\nCommands default the objects they consume and modify to ‘ .’, ‘..’, and so on. Therefore, because\\nthe commands in a script generally use the same objects, selecting t he objects enables their names to\\nbe replaced with pointers. Often the defaults of the commands are designed to enable the omission of'), Document(id='4e5c26cf-c039-41a9-9b95-be299d696804', metadata={}, page_content='The operators act asynchronously while communicating with each ot her. Multiple operators may\\nsimultaneously use the same machine, and the same operator may sim ultaneously use multiple ma-\\nchines. Only one operator uses a shell at one time. Some machines ar e exogenous to this model,\\nyet the operators can access their states in read or write modes t hrough running commands. Cloud\\nstorage [19] and compute resources [ 9] are examples of these machines.\\nWe, therefore, recognize the existence of a plurality of interconn ected state machines. Objects are\\nartifacts on some of these machines, and, therefore, their cont ent is a component of the state of the\\nmachine(s) that carry them. Hence, the hypergraph is a subset o f the state of the universal state'), Document(id='2597319b-3c9d-4944-8765-6edaf675e53c', metadata={}, page_content='[45] NetworkX Developers. NetworkX. https://networkx.org/ , 2023.\\n[46] 4.Features—QGISDocumentationdocumentation. https://docs.qgis.org/3.34/en/docs/user_manual/prea mbl \\n[47] Arash Abadpour. Vancouver Watching: Vancouver watching w ith AI. GitHub repository,\\nhttps://github.com/kamangir/Vancouver-Watching .\\n[48] UltralyticsHUB-YOLOv8x. https://hub.ultralytics.com/models/R6nMlK6kQjSsQ76M PqQM?tab=preview .\\nbuilt bygizai-7.300.1 .\\n9')]\n",
      "        QUESTION:What does this document talk about? in 20 words.\n",
      "        ANSWER:\n",
      "        \n",
      "        The document discusses cloud computing services, Docker command line, Amazon S3, Bash shell, and shell expansions.\n"
     ]
    }
   ],
   "source": [
    "ask = \"What does this document talk about? in 20 words.\"\n",
    "prompt, docs, ans = answer(db, ask)\n",
    "print(ans)"
   ]
  },
  {
   "cell_type": "code",
   "execution_count": 4,
   "metadata": {
    "colab": {
     "base_uri": "https://localhost:8080/",
     "height": 125
    },
    "executionInfo": {
     "elapsed": 126,
     "status": "ok",
     "timestamp": 1705129027727,
     "user": {
      "displayName": "Gaurav Mishra",
      "userId": "05225046088428816217"
     },
     "user_tz": 300
    },
    "id": "EkoZBooamtqO",
    "outputId": "180af0d6-f37b-48c7-c443-23ccc7716371"
   },
   "outputs": [
    {
     "data": {
      "text/plain": [
       "'Answer the following QUESTION based on the CONTEXT\\n    given. If you do not know the answer and the CONTEXT doesn\\'t\\n    contain the answer truthfully say \"I don\\'t know\"\\n\\n        CONTEXT:[Document(id=\\'95bf7f04-cd5c-4224-b2d4-21ea74b6dc31\\', metadata={}, page_content=\\'[32] DirectoryStackBuiltins(BashReferenceManual). https://www.gnu.org/software/bash/manual/html_node/ Direc \\\\n[33] nano - Text editor. https://www.nano-editor.org/ .\\\\n[34] argparse — Parser for command-line options, arguments and s ub-commands — Python 3.12.4\\\\ndocumentation. https://docs.python.org/3/library/argparse.html .\\\\n[35] Click - The Pallets Projects. https://palletsprojects.com/p/click/ .\\\\n[36] Python Fire. https://google.github.io/python-fire/ .\\\\n[37] Namespace-Wikipedia. https://en.wikipedia.org/wiki/Namespace#Emulating_n amespaces .\\\\n[38] Aliases(BashReferenceManual). https://www.gnu.org/software/bash/manual/html_node/ Aliases.html .\\\\n[39] Roy Thomas Fielding. Architectural Styles and the Design of Network-based Softw are Architec-\\\\ntures. University of California, Irvine, 2000.\\'), Document(id=\\'80cf6905-abf1-4e06-98e1-a23718b779fa\\', metadata={}, page_content=\\'Access, Automation, Analytics, AI\\\\nArash Abadpour - arash@abadpour.com\\\\nMarch 6, 2025\\\\n“... the four A’s that we’re after ... (1) Accessibility when I ask a quest ion I want to be able\\\\nto access the data that allows me to answer the question that I’m as king (2) Automation\\\\nour ability to make routine tasks that are presently done by humans so that they can be\\\\ndone by machines ... (3) Analytics we want to be able to generate insigh ts that might not\\\\notherwise be obvious to us (4) AI ... - James C. Slife , The Future of Warfare: Preparing\\\\nU.S. Military Forces for Competition and Contestation, GSF 2024 [ 1].”\\\\nAbstract\\\\nFirst, we develop a mathematical model to discuss the “Four A ’s” in Section 1. Then, we\\\\npropose expansions for Access and Automation in Sections 2and3, respectively. We brieﬂy\\'), Document(id=\\'0592a57b-1c0b-4a11-b5fa-5adc02980943\\', metadata={}, page_content=\\'the pointers as well. Object\\\\nMetadata Every object carries a metadata.yaml ﬁle that can be getandpostas a dictionary.\\\\n@metadata get key=<key> [.|<object-name>]\\\\n@metadata post <key> <value> - [.|<object-name>]\\\\nObject\\\\nTagsAn object can have many tags. A tag is key-value pair that is maintain ed in a system such as\\\\nMLﬂow[43] and issetandget, and can be searched,\\\\n@mlflow tags get [.|<object-name>] [--tag <tag>]\\\\n@mlflow tags search [<keyword-1>=<value-1>,<keyword-2> ,~<keyword-3>]\\\\n@mlflow tags set [.|<object-name>] [<keyword-1>=<value> ,<keyword-2>,~<keyword-3>]\\\\nObject\\\\nPersistenceObject are persisted on AWS S3 [ 19]. Objects can be downloaded, uploaded, and listed,\\\\n@download [filename=<filename>] [.|<object-name>]\\\\n@upload [filename=<filename>] [.|<object-name>]\\'), Document(id=\\'c115f8da-aab6-4e9d-ae30-e4735eae3f33\\', metadata={}, page_content=\\'[25] ShellParameterExpansion(BashReferenceManual). https://www.gnu.org/software/bash/manual/html_node/ Sh \\\\n[26] CommandSubstitution(BashReferenceManual). https://www.gnu.org/software/bash/manual/html_node/ Comman \\\\n8[27] ArithmeticExpansion(BashReferenceManual). https://www.gnu.org/software/bash/manual/html_node/ Arithmet \\\\n[28] WordSplitting(BashReferenceManual). https://www.gnu.org/software/bash/manual/html_node/ Word-Splittin \\\\n[29] BashStartupFiles(BashReferenceManual). https://www.gnu.org/software/bash/manual/html_node/ Filename- \\\\n[30] ShellSyntax(BashReferenceManual). https://www.gnu.org/software/bash/manual/html_node/ Shell-Syntax.h \\\\n[31] Deﬁnitions(BashReferenceManual): controloperator. https://www.gnu.org/software/bash/manual/html_node/ D\\'), Document(id=\\'958b95bd-e475-4c4c-99aa-86a07b8117d3\\', metadata={}, page_content=\\'[17] Cloud Computing Services - Amazon Web Services (AWS). awshttps://aws.amazon.com/ .\\\\n[18] UsetheDockercommandline-DockerDocs. https://docs.docker.com/engine/reference/commandlin e/cli/.\\\\n[19] Amazon S3 - Cloud Object Storage - AWS. https://aws.amazon.com/s3/ .\\\\n[20] Bash (unix shell) - wikipedia. https://en.wikipedia.org/wiki/Bash_(Unix_shell) .\\\\n[21] Whatisashell? (BashReferenceManual). https://www.gnu.org/software/bash/manual/html_node/ What-is-a-she \\\\n[22] ShellExpansions(BashReferenceManual). https://www.gnu.org/software/bash/manual/html_node/ Shell-Expan \\\\n[23] BraceExpansion(BashReferenceManual). https://www.gnu.org/software/bash/manual/html_node/ Brace-Expan \\\\n[24] TildeExpansion(BashReferenceManual). https://www.gnu.org/software/bash/manual/html_node/ Tilde-Expans\\'), Document(id=\\'fa35f252-bdd0-4c8b-b89c-fa52bb862d52\\', metadata={}, page_content=\\'vanwatch \\\\\\\\\\\\ningest \\\\\\\\\\\\ntarget=<target>,count=<count> \\\\\\\\\\\\n$object_name \\\\\\\\\\\\ndetect,count=<count>,gif,model=<model-id>,publish \\\\\\\\\\\\n--overwrite 1List of Ob-\\\\njectsA series of objects that are tagged by a unique tag to represent a list of objects. Or, the list\\\\nof objects may be maintained in the metadata of an object. This obj ect or tag expands to the\\\\nlist of objects, through tag or metadata mechanisms. We will review examples of this expansion in\\\\nSection5.2.Terraforming is the process of installing modules and adjusting the conﬁguration o f a Terraforming\\\\nshell or a machine for a speciﬁc purpose through running a series of commands. These commands\\\\nare often long and unintuitive and contain secrets and other enviro nment variables. Terraforming is\\'), Document(id=\\'6b209d76-adfd-4ae4-a260-39e47fe85580\\', metadata={}, page_content=\\'suchasgit[5]andfollowingacollectivepeer-reviewed pull-request [6] process. Eachoperatorcanaccess\\\\na set ofmachines on a system such as SageMaker [7] and create shellson them to run commands to\\\\nproduce objectswhich have an implicit or explicit value.\\\\nThe objective of every operator is to increase the quality and quan tity of the objects they generate.\\\\nTherefore, the operatorsare interested in mechanisms that ena ble them to build the commandsin ways\\\\nthat allow them to generate large quantities of objects that adher e to requirements that are known in\\\\nthe future from objects that may not exist yet. This is particularly important because commands run\\\\nother commands and some objects are intermediaries in generating other objects.\\'), Document(id=\\'9c25890e-d46d-40dc-85e3-21874276b73d\\', metadata={}, page_content=\\'environment. For example, an itemin aSTAC collection [41] (a datacube) or a dataset in Kaggle[42]\\\\nare objects. A curated dataset, a model trained on it, and the mo del’s predictions on a datacube, are\\\\nexamples of other objects. Object\\\\nPointers An object may be selected,\\\\n@select <object-name>\\\\nWhen<object-name> is selected, ‘ .’ expands to <object-name> . Similarly, ‘ ..’, ‘...’, and so\\\\non, as deep as needed, expand to the names of the previously selec ted object and the one before that.\\\\nCommands default the objects they consume and modify to ‘ .’, ‘..’, and so on. Therefore, because\\\\nthe commands in a script generally use the same objects, selecting t he objects enables their names to\\\\nbe replaced with pointers. Often the defaults of the commands are designed to enable the omission of\\'), Document(id=\\'4e5c26cf-c039-41a9-9b95-be299d696804\\', metadata={}, page_content=\\'The operators act asynchronously while communicating with each ot her. Multiple operators may\\\\nsimultaneously use the same machine, and the same operator may sim ultaneously use multiple ma-\\\\nchines. Only one operator uses a shell at one time. Some machines ar e exogenous to this model,\\\\nyet the operators can access their states in read or write modes t hrough running commands. Cloud\\\\nstorage [19] and compute resources [ 9] are examples of these machines.\\\\nWe, therefore, recognize the existence of a plurality of interconn ected state machines. Objects are\\\\nartifacts on some of these machines, and, therefore, their cont ent is a component of the state of the\\\\nmachine(s) that carry them. Hence, the hypergraph is a subset o f the state of the universal state\\'), Document(id=\\'2597319b-3c9d-4944-8765-6edaf675e53c\\', metadata={}, page_content=\\'[45] NetworkX Developers. NetworkX. https://networkx.org/ , 2023.\\\\n[46] 4.Features—QGISDocumentationdocumentation. https://docs.qgis.org/3.34/en/docs/user_manual/prea mbl \\\\n[47] Arash Abadpour. Vancouver Watching: Vancouver watching w ith AI. GitHub repository,\\\\nhttps://github.com/kamangir/Vancouver-Watching .\\\\n[48] UltralyticsHUB-YOLOv8x. https://hub.ultralytics.com/models/R6nMlK6kQjSsQ76M PqQM?tab=preview .\\\\nbuilt bygizai-7.300.1 .\\\\n9\\')]\\n        QUESTION:What does this document talk about? in 20 words.\\n        ANSWER:\\n        \\n        The document discusses cloud computing services, Docker command line, Amazon S3, Bash shell, and shell expansions.'"
      ]
     },
     "execution_count": 4,
     "metadata": {},
     "output_type": "execute_result"
    }
   ],
   "source": [
    "ans"
   ]
  },
  {
   "cell_type": "code",
   "execution_count": 5,
   "metadata": {
    "id": "-9GqzzgykU41"
   },
   "outputs": [],
   "source": [
    "# END"
   ]
  }
 ],
 "metadata": {
  "colab": {
   "authorship_tag": "ABX9TyOZP7aqfKD+CTpcAN6h2HMC",
   "mount_file_id": "1y4JDFX35oOA7tNsSO4ASOFr2zr9bDCCH",
   "provenance": []
  },
  "kernelspec": {
   "display_name": "base",
   "language": "python",
   "name": "python3"
  },
  "language_info": {
   "codemirror_mode": {
    "name": "ipython",
    "version": 3
   },
   "file_extension": ".py",
   "mimetype": "text/x-python",
   "name": "python",
   "nbconvert_exporter": "python",
   "pygments_lexer": "ipython3",
   "version": "3.12.9"
  }
 },
 "nbformat": 4,
 "nbformat_minor": 0
}
