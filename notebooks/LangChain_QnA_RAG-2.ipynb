{
 "cells": [
  {
   "cell_type": "markdown",
   "metadata": {},
   "source": [
    "# LongChain Q&A RAG\n",
    "\n",
    "based on [LangChain_QnA_RAG.ipynb](https://github.com/mishragauravgm/qna-faiss-rag/blob/main/LangChain_QnA_RAG.ipynb)"
   ]
  },
  {
   "cell_type": "markdown",
   "metadata": {
    "id": "HrCvmqEoNhhM"
   },
   "source": [
    "Here are the steps involved in this:\n",
    "\n",
    "\n",
    "\n",
    "1.   Read a pdf from a file location\n",
    "2.   Convert those pdf into chunks\n",
    "3.   Store those chunks as embeddings using any embedding model\n",
    "4.   Read a question or prompt from the user\n",
    "\n",
    "    - Convert it into embedding too\n",
    "    - Run Faiss on the prompt with the existing embedding database\n",
    "    - Pass the k-nearest embeddings as a context through the prompt template\n",
    "5. Pass the context and the question to LLM and get the response."
   ]
  },
  {
   "cell_type": "code",
   "execution_count": 1,
   "metadata": {},
   "outputs": [
    {
     "name": "stderr",
     "output_type": "stream",
     "text": [
      "🧠  blue_assistant-4.391.1.abcli-9.566.1.blue_objects-5.335.1.blue_options-4.240.1.torch-2.2.2.Python 3.12.9.Darwin 23.6.0..Jupyter-Notebook,\n",
      "built on 20 March 2025, 19:41:48\n"
     ]
    }
   ],
   "source": [
    "from blueflow import notebooks\n",
    "\n",
    "from blue_options import string\n",
    "from blue_objects import objects\n",
    "\n",
    "from blue_assistant.host import signature\n",
    "from blue_assistant import env\n",
    "from blue_assistant.RAG.input import pdf_to_faiss\n",
    "from blue_assistant.RAG.output import answer\n",
    "\n",
    "from blue_assistant.logger import logger\n",
    "\n",
    "logger.info(f\"{'.'.join(signature())},\\nbuilt on {string.pretty_date()}\")"
   ]
  },
  {
   "cell_type": "code",
   "execution_count": 2,
   "metadata": {
    "executionInfo": {
     "elapsed": 117589,
     "status": "ok",
     "timestamp": 1705128910874,
     "user": {
      "displayName": "Gaurav Mishra",
      "userId": "05225046088428816217"
     },
     "user_tz": 300
    },
    "id": "tAXWSaqQk-j_"
   },
   "outputs": [
    {
     "name": "stderr",
     "output_type": "stream",
     "text": [
      "/Users/kamangir/git/blue-assistant/blue_assistant/RAG/input.py:26: LangChainDeprecationWarning: The class `HuggingFaceEmbeddings` was deprecated in LangChain 0.2.2 and will be removed in 1.0. An updated version of the class exists in the :class:`~langchain-huggingface package and should be used instead. To use it run `pip install -U :class:`~langchain-huggingface` and import as `from :class:`~langchain_huggingface import HuggingFaceEmbeddings``.\n",
      "  embeddings = HuggingFaceEmbeddings()\n",
      "/Users/kamangir/git/blue-assistant/blue_assistant/RAG/input.py:26: LangChainDeprecationWarning: Default values for HuggingFaceEmbeddings.model_name were deprecated in LangChain 0.2.16 and will be removed in 0.4.0. Explicitly pass a model_name to the HuggingFaceEmbeddings constructor instead.\n",
      "  embeddings = HuggingFaceEmbeddings()\n",
      "/Users/kamangir/miniconda3/lib/python3.12/site-packages/tqdm/auto.py:21: TqdmWarning: IProgress not found. Please update jupyter and ipywidgets. See https://ipywidgets.readthedocs.io/en/stable/user_install.html\n",
      "  from .autonotebook import tqdm as notebook_tqdm\n",
      "sentence_transformers.SentenceTransformer Use pytorch device_name: mps\n",
      "sentence_transformers.SentenceTransformer Load pretrained SentenceTransformer: sentence-transformers/all-mpnet-base-v2\n",
      "faiss.loader Loading faiss.\n",
      "faiss.loader Successfully loaded faiss.\n",
      "faiss Failed to load GPU Faiss: name 'GpuIndexIVFFlat' is not defined. Will not load constructor refs for GPU indexes.\n"
     ]
    }
   ],
   "source": [
    "db = pdf_to_faiss('/Users/kamangir/Desktop/giza.pdf')"
   ]
  },
  {
   "cell_type": "code",
   "execution_count": 3,
   "metadata": {
    "colab": {
     "base_uri": "https://localhost:8080/"
    },
    "executionInfo": {
     "elapsed": 290,
     "status": "ok",
     "timestamp": 1705129121972,
     "user": {
      "displayName": "Gaurav Mishra",
      "userId": "05225046088428816217"
     },
     "user_tz": 300
    },
    "id": "6a_dMxVblHU9",
    "outputId": "d1ce899f-429d-4cae-a717-a2544d6fd61c"
   },
   "outputs": [
    {
     "name": "stderr",
     "output_type": "stream",
     "text": [
      "/Users/kamangir/git/blue-assistant/blue_assistant/RAG/output.py:9: LangChainDeprecationWarning: The class `HuggingFaceHub` was deprecated in LangChain 0.0.21 and will be removed in 1.0. An updated version of the class exists in the :class:`~langchain-huggingface package and should be used instead. To use it run `pip install -U :class:`~langchain-huggingface` and import as `from :class:`~langchain_huggingface import HuggingFaceEndpoint``.\n",
      "  model = HuggingFaceHub(\n",
      "/Users/kamangir/git/blue-assistant/blue_assistant/RAG/output.py:33: LangChainDeprecationWarning: The class `LLMChain` was deprecated in LangChain 0.1.17 and will be removed in 1.0. Use :meth:`~RunnableSequence, e.g., `prompt | llm`` instead.\n",
      "  chain = LLMChain(\n",
      "/Users/kamangir/git/blue-assistant/blue_assistant/RAG/output.py:41: LangChainDeprecationWarning: The method `Chain.run` was deprecated in langchain 0.1.0 and will be removed in 1.0. Use :meth:`~invoke` instead.\n",
      "  chain.run(\n",
      "/Users/kamangir/miniconda3/lib/python3.12/site-packages/huggingface_hub/utils/_deprecation.py:131: FutureWarning: 'post' (from 'huggingface_hub.inference._client') is deprecated and will be removed from version '0.31.0'. Making direct POST requests to the inference server is not supported anymore. Please use task methods instead (e.g. `InferenceClient.chat_completion`). If your use case is not supported, please open an issue in https://github.com/huggingface/huggingface_hub.\n",
      "  warnings.warn(warning_message, FutureWarning)\n"
     ]
    },
    {
     "name": "stdout",
     "output_type": "stream",
     "text": [
      "Answer the following QUESTION based on the CONTEXT\n",
      "    given. If you do not know the answer and the CONTEXT doesn't\n",
      "    contain the answer truthfully say \"I don't know\"\n",
      "\n",
      "        CONTEXT:[Document(id='cddc0370-51ff-40f5-85ca-46e5f444d95e', metadata={}, page_content='[17] Cloud Computing Services - Amazon Web Services (AWS). awshttps://aws.amazon.com/ .\\n[18] UsetheDockercommandline-DockerDocs. https://docs.docker.com/engine/reference/commandlin e/cli/.\\n[19] Amazon S3 - Cloud Object Storage - AWS. https://aws.amazon.com/s3/ .\\n[20] Bash (unix shell) - wikipedia. https://en.wikipedia.org/wiki/Bash_(Unix_shell) .\\n[21] Whatisashell? (BashReferenceManual). https://www.gnu.org/software/bash/manual/html_node/ What-is-a-she \\n[22] ShellExpansions(BashReferenceManual). https://www.gnu.org/software/bash/manual/html_node/ Shell-Expan \\n[23] BraceExpansion(BashReferenceManual). https://www.gnu.org/software/bash/manual/html_node/ Brace-Expan \\n[24] TildeExpansion(BashReferenceManual). https://www.gnu.org/software/bash/manual/html_node/ Tilde-Expans'), Document(id='acdf0a21-db29-4301-bde5-7f3ec3ca6381', metadata={}, page_content='[32] DirectoryStackBuiltins(BashReferenceManual). https://www.gnu.org/software/bash/manual/html_node/ Direc \\n[33] nano - Text editor. https://www.nano-editor.org/ .\\n[34] argparse — Parser for command-line options, arguments and s ub-commands — Python 3.12.4\\ndocumentation. https://docs.python.org/3/library/argparse.html .\\n[35] Click - The Pallets Projects. https://palletsprojects.com/p/click/ .\\n[36] Python Fire. https://google.github.io/python-fire/ .\\n[37] Namespace-Wikipedia. https://en.wikipedia.org/wiki/Namespace#Emulating_n amespaces .\\n[38] Aliases(BashReferenceManual). https://www.gnu.org/software/bash/manual/html_node/ Aliases.html .\\n[39] Roy Thomas Fielding. Architectural Styles and the Design of Network-based Softw are Architec-\\ntures. University of California, Irvine, 2000.'), Document(id='4c603343-e9fe-4d0c-80f2-9ff0cbad72f4', metadata={}, page_content='[25] ShellParameterExpansion(BashReferenceManual). https://www.gnu.org/software/bash/manual/html_node/ Sh \\n[26] CommandSubstitution(BashReferenceManual). https://www.gnu.org/software/bash/manual/html_node/ Comman \\n8[27] ArithmeticExpansion(BashReferenceManual). https://www.gnu.org/software/bash/manual/html_node/ Arithmet \\n[28] WordSplitting(BashReferenceManual). https://www.gnu.org/software/bash/manual/html_node/ Word-Splittin \\n[29] BashStartupFiles(BashReferenceManual). https://www.gnu.org/software/bash/manual/html_node/ Filename- \\n[30] ShellSyntax(BashReferenceManual). https://www.gnu.org/software/bash/manual/html_node/ Shell-Syntax.h \\n[31] Deﬁnitions(BashReferenceManual): controloperator. https://www.gnu.org/software/bash/manual/html_node/ D'), Document(id='0e484630-fcb2-4538-810c-0f4da5b30511', metadata={}, page_content='machine(s) that carry them. Hence, the hypergraph is a subset o f the state of the universal state\\nmachine. A command is a string of characters that is meaningful to Bash[3]. Bash is a “Unix shell Commands\\n& Expan-\\nsionsand command language ﬁrst released in 1989 that has been used as t he default login shell for most\\nLinux distributions” [ 20]. A shell is a “macro processor that executes commands” [ 21], where “macro\\nprocessor means functionality where text and symbols are expand ed to create larger expressions” [ 21].\\nThere are seven kinds of expansions [22] in Bash. Expansions\\nBrace Expansion [23] expands ‘ a{d,c,b}e’to ‘ade ace abe ’.Tilde Expansion [24] relates to words\\nthat begin with an unquoted tilde character (˜). Parameter and Variable Expansion [25] enable'), Document(id='c23083f5-f365-464f-a676-fe5e7e378922', metadata={}, page_content='propose expansions for Access and Automation in Sections 2and3, respectively. We brieﬂy\\nreview a proposed view of Analytics as Access to the outputs o f Automation in Section 4. Finally,\\nin Section 5, we review a reference implementation of the proposed frame work [2] based on Bash[3]\\nexpansions that call into Python[4] in multiple AI applications.\\nContents\\n1 Theoretical Framework 1\\n2 Access 3\\n3 Automation 5\\n4 Analytics 5\\n5 AI 6\\n5.1 Vancouver Watching ( vanwatch ). . . . . . . . . . . . . . . . . . . . . . . . . . . . . . . 6\\n5.2palisades . . . . . . . . . . . . . . . . . . . . . . . . . . . . . . . . . . . . . . . . . . . . 8\\n1 Theoretical Framework\\nHypergraph\\nof Objects\\n& Com-\\nmandsA group of operators maintain a growing space of commands in a set of repositories , using a system'), Document(id='44d235af-b6be-4864-9104-25663c279dc8', metadata={}, page_content='that begin with an unquoted tilde character (˜). Parameter and Variable Expansion [25] enable\\nthe use of variables, as ${variable }, as well as more elaborate pattern matching forms such as${parameter/#pattern/string }.Command Substitution “allows the output of a command to re-\\nplace the command itself” [ 26].Arithmetic expansion [27] enables arithmetic operations using the\\nform $(( expression )) andWord Splitting [28] governs the splitting of the command to words.\\nFinally,Filename Expansion [29] enables the familiar wildcard reference to ﬁlenames using ‘*’ and ‘?’.\\nWe are interested in a special category of valid bash commands [ 30] that start with a specially–crafted Command\\nSyntax callable, continue with a prescribed sequence of identiﬁers, and end with arguments. A callableis a'), Document(id='1d2cb0dd-d358-475f-a95f-dc0552ae9db8', metadata={}, page_content='algorithms [ 13,14]. State Ma-\\nchines A machine is a state machine that is connected to many other m achines and sharessome of its state\\nwith them for read and write. A shell is a stateful access mechanism to a machine that an operator\\nuses to run commands. In a 2022 survey of developers, 89% respo nded that they have a terminal open\\nat least half of the day [ 15]. Running a command in a shell can potentially modify the state of all\\nother machines. Two examples of machines are a Raspberry Pi [ 16] that runs Linux and is connected\\nto the AWS infrastructure [ 17] and a docker container [ 18] running in AWS Batch. GNU Bash [ 3] is\\nan example of a shell.\\nThe operators act asynchronously while communicating with each ot her. Multiple operators may'), Document(id='273da168-fd49-40ed-9e13-fc4e6bc6c536', metadata={}, page_content='https://github.com/kamangir/awesome-bash-cli .\\n[3] Bash - GNU Project - Free Software Foundation. https://www.gnu.org/software/bash/ .\\n[4] Welcome to Python.org. https://www.python.org/ .\\n[5] Git - git Documentation. https://git-scm.com/docs/git .\\n[6] Aboutpullrequests-GitHubDocs. https://docs.github.com/en/pull-requests/collaborat ing-with-pull-req \\n[7] Machine Learning Service - Amazon SageMaker - AWS. https://aws.amazon.com/sagemaker/ .\\n[8] Alain Bretto. Hypergraph Theory; An Introduction . Springer, 2013.\\n[9] Eﬃcient Batch Computing - AWS Batch - AWS. https://aws.amazon.com/batch/ .\\n[10] B. Hendrickson and T.G. Kolda. Graph partitioning models for par allel computing. Parallel\\nComputation , 26:1519–1545, 2000.'), Document(id='1b9e2ec9-d927-437d-8f01-cf2db3bf9f57', metadata={}, page_content='Access, Automation, Analytics, AI\\nArash Abadpour - arash@abadpour.com\\nMarch 6, 2025\\n“... the four A’s that we’re after ... (1) Accessibility when I ask a quest ion I want to be able\\nto access the data that allows me to answer the question that I’m as king (2) Automation\\nour ability to make routine tasks that are presently done by humans so that they can be\\ndone by machines ... (3) Analytics we want to be able to generate insigh ts that might not\\notherwise be obvious to us (4) AI ... - James C. Slife , The Future of Warfare: Preparing\\nU.S. Military Forces for Competition and Contestation, GSF 2024 [ 1].”\\nAbstract\\nFirst, we develop a mathematical model to discuss the “Four A ’s” in Section 1. Then, we\\npropose expansions for Access and Automation in Sections 2and3, respectively. We brieﬂy'), Document(id='dbecd067-59ed-479e-b1b6-2de9462be79a', metadata={}, page_content='environment. For example, an itemin aSTAC collection [41] (a datacube) or a dataset in Kaggle[42]\\nare objects. A curated dataset, a model trained on it, and the mo del’s predictions on a datacube, are\\nexamples of other objects. Object\\nPointers An object may be selected,\\n@select <object-name>\\nWhen<object-name> is selected, ‘ .’ expands to <object-name> . Similarly, ‘ ..’, ‘...’, and so\\non, as deep as needed, expand to the names of the previously selec ted object and the one before that.\\nCommands default the objects they consume and modify to ‘ .’, ‘..’, and so on. Therefore, because\\nthe commands in a script generally use the same objects, selecting t he objects enables their names to\\nbe replaced with pointers. Often the defaults of the commands are designed to enable the omission of')]\n",
      "        QUESTION:What is the importance of Bash in AI? in less than 20 words.\n",
      "        ANSWER:\n",
      "        \n",
      "        Bash is important in AI as it facilitates command execution and workflow automation.\n"
     ]
    }
   ],
   "source": [
    "ask = \"What is the importance of Bash in AI? in less than 20 words.\"\n",
    "prompt, docs, ans = answer(db, ask)\n",
    "print(ans)"
   ]
  },
  {
   "cell_type": "code",
   "execution_count": 4,
   "metadata": {
    "colab": {
     "base_uri": "https://localhost:8080/",
     "height": 125
    },
    "executionInfo": {
     "elapsed": 126,
     "status": "ok",
     "timestamp": 1705129027727,
     "user": {
      "displayName": "Gaurav Mishra",
      "userId": "05225046088428816217"
     },
     "user_tz": 300
    },
    "id": "EkoZBooamtqO",
    "outputId": "180af0d6-f37b-48c7-c443-23ccc7716371"
   },
   "outputs": [
    {
     "data": {
      "text/plain": [
       "'Answer the following QUESTION based on the CONTEXT\\n    given. If you do not know the answer and the CONTEXT doesn\\'t\\n    contain the answer truthfully say \"I don\\'t know\"\\n\\n        CONTEXT:[Document(id=\\'cddc0370-51ff-40f5-85ca-46e5f444d95e\\', metadata={}, page_content=\\'[17] Cloud Computing Services - Amazon Web Services (AWS). awshttps://aws.amazon.com/ .\\\\n[18] UsetheDockercommandline-DockerDocs. https://docs.docker.com/engine/reference/commandlin e/cli/.\\\\n[19] Amazon S3 - Cloud Object Storage - AWS. https://aws.amazon.com/s3/ .\\\\n[20] Bash (unix shell) - wikipedia. https://en.wikipedia.org/wiki/Bash_(Unix_shell) .\\\\n[21] Whatisashell? (BashReferenceManual). https://www.gnu.org/software/bash/manual/html_node/ What-is-a-she \\\\n[22] ShellExpansions(BashReferenceManual). https://www.gnu.org/software/bash/manual/html_node/ Shell-Expan \\\\n[23] BraceExpansion(BashReferenceManual). https://www.gnu.org/software/bash/manual/html_node/ Brace-Expan \\\\n[24] TildeExpansion(BashReferenceManual). https://www.gnu.org/software/bash/manual/html_node/ Tilde-Expans\\'), Document(id=\\'acdf0a21-db29-4301-bde5-7f3ec3ca6381\\', metadata={}, page_content=\\'[32] DirectoryStackBuiltins(BashReferenceManual). https://www.gnu.org/software/bash/manual/html_node/ Direc \\\\n[33] nano - Text editor. https://www.nano-editor.org/ .\\\\n[34] argparse — Parser for command-line options, arguments and s ub-commands — Python 3.12.4\\\\ndocumentation. https://docs.python.org/3/library/argparse.html .\\\\n[35] Click - The Pallets Projects. https://palletsprojects.com/p/click/ .\\\\n[36] Python Fire. https://google.github.io/python-fire/ .\\\\n[37] Namespace-Wikipedia. https://en.wikipedia.org/wiki/Namespace#Emulating_n amespaces .\\\\n[38] Aliases(BashReferenceManual). https://www.gnu.org/software/bash/manual/html_node/ Aliases.html .\\\\n[39] Roy Thomas Fielding. Architectural Styles and the Design of Network-based Softw are Architec-\\\\ntures. University of California, Irvine, 2000.\\'), Document(id=\\'4c603343-e9fe-4d0c-80f2-9ff0cbad72f4\\', metadata={}, page_content=\\'[25] ShellParameterExpansion(BashReferenceManual). https://www.gnu.org/software/bash/manual/html_node/ Sh \\\\n[26] CommandSubstitution(BashReferenceManual). https://www.gnu.org/software/bash/manual/html_node/ Comman \\\\n8[27] ArithmeticExpansion(BashReferenceManual). https://www.gnu.org/software/bash/manual/html_node/ Arithmet \\\\n[28] WordSplitting(BashReferenceManual). https://www.gnu.org/software/bash/manual/html_node/ Word-Splittin \\\\n[29] BashStartupFiles(BashReferenceManual). https://www.gnu.org/software/bash/manual/html_node/ Filename- \\\\n[30] ShellSyntax(BashReferenceManual). https://www.gnu.org/software/bash/manual/html_node/ Shell-Syntax.h \\\\n[31] Deﬁnitions(BashReferenceManual): controloperator. https://www.gnu.org/software/bash/manual/html_node/ D\\'), Document(id=\\'0e484630-fcb2-4538-810c-0f4da5b30511\\', metadata={}, page_content=\\'machine(s) that carry them. Hence, the hypergraph is a subset o f the state of the universal state\\\\nmachine. A command is a string of characters that is meaningful to Bash[3]. Bash is a “Unix shell Commands\\\\n& Expan-\\\\nsionsand command language ﬁrst released in 1989 that has been used as t he default login shell for most\\\\nLinux distributions” [ 20]. A shell is a “macro processor that executes commands” [ 21], where “macro\\\\nprocessor means functionality where text and symbols are expand ed to create larger expressions” [ 21].\\\\nThere are seven kinds of expansions [22] in Bash. Expansions\\\\nBrace Expansion [23] expands ‘ a{d,c,b}e’to ‘ade ace abe ’.Tilde Expansion [24] relates to words\\\\nthat begin with an unquoted tilde character (˜). Parameter and Variable Expansion [25] enable\\'), Document(id=\\'c23083f5-f365-464f-a676-fe5e7e378922\\', metadata={}, page_content=\\'propose expansions for Access and Automation in Sections 2and3, respectively. We brieﬂy\\\\nreview a proposed view of Analytics as Access to the outputs o f Automation in Section 4. Finally,\\\\nin Section 5, we review a reference implementation of the proposed frame work [2] based on Bash[3]\\\\nexpansions that call into Python[4] in multiple AI applications.\\\\nContents\\\\n1 Theoretical Framework 1\\\\n2 Access 3\\\\n3 Automation 5\\\\n4 Analytics 5\\\\n5 AI 6\\\\n5.1 Vancouver Watching ( vanwatch ). . . . . . . . . . . . . . . . . . . . . . . . . . . . . . . 6\\\\n5.2palisades . . . . . . . . . . . . . . . . . . . . . . . . . . . . . . . . . . . . . . . . . . . . 8\\\\n1 Theoretical Framework\\\\nHypergraph\\\\nof Objects\\\\n& Com-\\\\nmandsA group of operators maintain a growing space of commands in a set of repositories , using a system\\'), Document(id=\\'44d235af-b6be-4864-9104-25663c279dc8\\', metadata={}, page_content=\\'that begin with an unquoted tilde character (˜). Parameter and Variable Expansion [25] enable\\\\nthe use of variables, as ${variable }, as well as more elaborate pattern matching forms such as${parameter/#pattern/string }.Command Substitution “allows the output of a command to re-\\\\nplace the command itself” [ 26].Arithmetic expansion [27] enables arithmetic operations using the\\\\nform $(( expression )) andWord Splitting [28] governs the splitting of the command to words.\\\\nFinally,Filename Expansion [29] enables the familiar wildcard reference to ﬁlenames using ‘*’ and ‘?’.\\\\nWe are interested in a special category of valid bash commands [ 30] that start with a specially–crafted Command\\\\nSyntax callable, continue with a prescribed sequence of identiﬁers, and end with arguments. A callableis a\\'), Document(id=\\'1d2cb0dd-d358-475f-a95f-dc0552ae9db8\\', metadata={}, page_content=\\'algorithms [ 13,14]. State Ma-\\\\nchines A machine is a state machine that is connected to many other m achines and sharessome of its state\\\\nwith them for read and write. A shell is a stateful access mechanism to a machine that an operator\\\\nuses to run commands. In a 2022 survey of developers, 89% respo nded that they have a terminal open\\\\nat least half of the day [ 15]. Running a command in a shell can potentially modify the state of all\\\\nother machines. Two examples of machines are a Raspberry Pi [ 16] that runs Linux and is connected\\\\nto the AWS infrastructure [ 17] and a docker container [ 18] running in AWS Batch. GNU Bash [ 3] is\\\\nan example of a shell.\\\\nThe operators act asynchronously while communicating with each ot her. Multiple operators may\\'), Document(id=\\'273da168-fd49-40ed-9e13-fc4e6bc6c536\\', metadata={}, page_content=\\'https://github.com/kamangir/awesome-bash-cli .\\\\n[3] Bash - GNU Project - Free Software Foundation. https://www.gnu.org/software/bash/ .\\\\n[4] Welcome to Python.org. https://www.python.org/ .\\\\n[5] Git - git Documentation. https://git-scm.com/docs/git .\\\\n[6] Aboutpullrequests-GitHubDocs. https://docs.github.com/en/pull-requests/collaborat ing-with-pull-req \\\\n[7] Machine Learning Service - Amazon SageMaker - AWS. https://aws.amazon.com/sagemaker/ .\\\\n[8] Alain Bretto. Hypergraph Theory; An Introduction . Springer, 2013.\\\\n[9] Eﬃcient Batch Computing - AWS Batch - AWS. https://aws.amazon.com/batch/ .\\\\n[10] B. Hendrickson and T.G. Kolda. Graph partitioning models for par allel computing. Parallel\\\\nComputation , 26:1519–1545, 2000.\\'), Document(id=\\'1b9e2ec9-d927-437d-8f01-cf2db3bf9f57\\', metadata={}, page_content=\\'Access, Automation, Analytics, AI\\\\nArash Abadpour - arash@abadpour.com\\\\nMarch 6, 2025\\\\n“... the four A’s that we’re after ... (1) Accessibility when I ask a quest ion I want to be able\\\\nto access the data that allows me to answer the question that I’m as king (2) Automation\\\\nour ability to make routine tasks that are presently done by humans so that they can be\\\\ndone by machines ... (3) Analytics we want to be able to generate insigh ts that might not\\\\notherwise be obvious to us (4) AI ... - James C. Slife , The Future of Warfare: Preparing\\\\nU.S. Military Forces for Competition and Contestation, GSF 2024 [ 1].”\\\\nAbstract\\\\nFirst, we develop a mathematical model to discuss the “Four A ’s” in Section 1. Then, we\\\\npropose expansions for Access and Automation in Sections 2and3, respectively. We brieﬂy\\'), Document(id=\\'dbecd067-59ed-479e-b1b6-2de9462be79a\\', metadata={}, page_content=\\'environment. For example, an itemin aSTAC collection [41] (a datacube) or a dataset in Kaggle[42]\\\\nare objects. A curated dataset, a model trained on it, and the mo del’s predictions on a datacube, are\\\\nexamples of other objects. Object\\\\nPointers An object may be selected,\\\\n@select <object-name>\\\\nWhen<object-name> is selected, ‘ .’ expands to <object-name> . Similarly, ‘ ..’, ‘...’, and so\\\\non, as deep as needed, expand to the names of the previously selec ted object and the one before that.\\\\nCommands default the objects they consume and modify to ‘ .’, ‘..’, and so on. Therefore, because\\\\nthe commands in a script generally use the same objects, selecting t he objects enables their names to\\\\nbe replaced with pointers. Often the defaults of the commands are designed to enable the omission of\\')]\\n        QUESTION:What is the importance of Bash in AI? in less than 20 words.\\n        ANSWER:\\n        \\n        Bash is important in AI as it facilitates command execution and workflow automation.'"
      ]
     },
     "execution_count": 4,
     "metadata": {},
     "output_type": "execute_result"
    }
   ],
   "source": [
    "ans"
   ]
  },
  {
   "cell_type": "code",
   "execution_count": 5,
   "metadata": {
    "id": "-9GqzzgykU41"
   },
   "outputs": [],
   "source": [
    "# END"
   ]
  }
 ],
 "metadata": {
  "colab": {
   "authorship_tag": "ABX9TyOZP7aqfKD+CTpcAN6h2HMC",
   "mount_file_id": "1y4JDFX35oOA7tNsSO4ASOFr2zr9bDCCH",
   "provenance": []
  },
  "kernelspec": {
   "display_name": "base",
   "language": "python",
   "name": "python3"
  },
  "language_info": {
   "codemirror_mode": {
    "name": "ipython",
    "version": 3
   },
   "file_extension": ".py",
   "mimetype": "text/x-python",
   "name": "python",
   "nbconvert_exporter": "python",
   "pygments_lexer": "ipython3",
   "version": "3.12.9"
  }
 },
 "nbformat": 4,
 "nbformat_minor": 0
}
