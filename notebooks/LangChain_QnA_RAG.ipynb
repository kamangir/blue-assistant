{
 "cells": [
  {
   "cell_type": "markdown",
   "metadata": {},
   "source": [
    "# LongChain Q&A RAG\n",
    "\n",
    "based on [LangChain_QnA_RAG.ipynb](https://github.com/mishragauravgm/qna-faiss-rag/blob/main/LangChain_QnA_RAG.ipynb)"
   ]
  },
  {
   "cell_type": "markdown",
   "metadata": {
    "id": "HrCvmqEoNhhM"
   },
   "source": [
    "Here are the steps involved in this:\n",
    "\n",
    "\n",
    "\n",
    "1.   Read a pdf from a file location\n",
    "2.   Convert those pdf into chunks\n",
    "3.   Store those chunks as embeddings using any embedding model\n",
    "4.   Read a question or prompt from the user\n",
    "\n",
    "    - Convert it into embedding too\n",
    "    - Run Faiss on the prompt with the existing embedding database\n",
    "    - Pass the k-nearest embeddings as a context through the prompt template\n",
    "5. Pass the context and the question to LLM and get the response."
   ]
  },
  {
   "cell_type": "code",
   "execution_count": 1,
   "metadata": {
    "id": "w-_KIifAP0DX"
   },
   "outputs": [
    {
     "name": "stdout",
     "output_type": "stream",
     "text": [
      "Requirement already satisfied: openai in /Users/kamangir/miniconda3/lib/python3.12/site-packages (1.66.3)\n",
      "Requirement already satisfied: anyio<5,>=3.5.0 in /Users/kamangir/miniconda3/lib/python3.12/site-packages (from openai) (4.9.0)\n",
      "Requirement already satisfied: distro<2,>=1.7.0 in /Users/kamangir/miniconda3/lib/python3.12/site-packages (from openai) (1.9.0)\n",
      "Requirement already satisfied: httpx<1,>=0.23.0 in /Users/kamangir/miniconda3/lib/python3.12/site-packages (from openai) (0.28.1)\n",
      "Requirement already satisfied: jiter<1,>=0.4.0 in /Users/kamangir/miniconda3/lib/python3.12/site-packages (from openai) (0.9.0)\n",
      "Requirement already satisfied: pydantic<3,>=1.9.0 in /Users/kamangir/miniconda3/lib/python3.12/site-packages (from openai) (2.10.3)\n",
      "Requirement already satisfied: sniffio in /Users/kamangir/miniconda3/lib/python3.12/site-packages (from openai) (1.3.1)\n",
      "Requirement already satisfied: tqdm>4 in /Users/kamangir/miniconda3/lib/python3.12/site-packages (from openai) (4.67.1)\n",
      "Requirement already satisfied: typing-extensions<5,>=4.11 in /Users/kamangir/miniconda3/lib/python3.12/site-packages (from openai) (4.12.2)\n",
      "Requirement already satisfied: idna>=2.8 in /Users/kamangir/miniconda3/lib/python3.12/site-packages (from anyio<5,>=3.5.0->openai) (3.7)\n",
      "Requirement already satisfied: certifi in /Users/kamangir/miniconda3/lib/python3.12/site-packages (from httpx<1,>=0.23.0->openai) (2025.1.31)\n",
      "Requirement already satisfied: httpcore==1.* in /Users/kamangir/miniconda3/lib/python3.12/site-packages (from httpx<1,>=0.23.0->openai) (1.0.7)\n",
      "Requirement already satisfied: h11<0.15,>=0.13 in /Users/kamangir/miniconda3/lib/python3.12/site-packages (from httpcore==1.*->httpx<1,>=0.23.0->openai) (0.14.0)\n",
      "Requirement already satisfied: annotated-types>=0.6.0 in /Users/kamangir/miniconda3/lib/python3.12/site-packages (from pydantic<3,>=1.9.0->openai) (0.6.0)\n",
      "Requirement already satisfied: pydantic-core==2.27.1 in /Users/kamangir/miniconda3/lib/python3.12/site-packages (from pydantic<3,>=1.9.0->openai) (2.27.1)\n",
      "Requirement already satisfied: faiss-cpu in /Users/kamangir/miniconda3/lib/python3.12/site-packages (1.10.0)\n",
      "Requirement already satisfied: numpy<3.0,>=1.25.0 in /Users/kamangir/miniconda3/lib/python3.12/site-packages (from faiss-cpu) (1.26.4)\n",
      "Requirement already satisfied: packaging in /Users/kamangir/miniconda3/lib/python3.12/site-packages (from faiss-cpu) (24.2)\n",
      "Requirement already satisfied: langchain in /Users/kamangir/miniconda3/lib/python3.12/site-packages (0.3.21)\n",
      "Requirement already satisfied: langchain-core<1.0.0,>=0.3.45 in /Users/kamangir/miniconda3/lib/python3.12/site-packages (from langchain) (0.3.47)\n",
      "Requirement already satisfied: langchain-text-splitters<1.0.0,>=0.3.7 in /Users/kamangir/miniconda3/lib/python3.12/site-packages (from langchain) (0.3.7)\n",
      "Requirement already satisfied: langsmith<0.4,>=0.1.17 in /Users/kamangir/miniconda3/lib/python3.12/site-packages (from langchain) (0.3.18)\n",
      "Requirement already satisfied: pydantic<3.0.0,>=2.7.4 in /Users/kamangir/miniconda3/lib/python3.12/site-packages (from langchain) (2.10.3)\n",
      "Requirement already satisfied: SQLAlchemy<3,>=1.4 in /Users/kamangir/miniconda3/lib/python3.12/site-packages (from langchain) (2.0.39)\n",
      "Requirement already satisfied: requests<3,>=2 in /Users/kamangir/miniconda3/lib/python3.12/site-packages (from langchain) (2.32.3)\n",
      "Requirement already satisfied: PyYAML>=5.3 in /Users/kamangir/miniconda3/lib/python3.12/site-packages (from langchain) (6.0.2)\n",
      "Requirement already satisfied: tenacity!=8.4.0,<10.0.0,>=8.1.0 in /Users/kamangir/miniconda3/lib/python3.12/site-packages (from langchain-core<1.0.0,>=0.3.45->langchain) (9.0.0)\n",
      "Requirement already satisfied: jsonpatch<2.0,>=1.33 in /Users/kamangir/miniconda3/lib/python3.12/site-packages (from langchain-core<1.0.0,>=0.3.45->langchain) (1.33)\n",
      "Requirement already satisfied: packaging<25,>=23.2 in /Users/kamangir/miniconda3/lib/python3.12/site-packages (from langchain-core<1.0.0,>=0.3.45->langchain) (24.2)\n",
      "Requirement already satisfied: typing-extensions>=4.7 in /Users/kamangir/miniconda3/lib/python3.12/site-packages (from langchain-core<1.0.0,>=0.3.45->langchain) (4.12.2)\n",
      "Requirement already satisfied: httpx<1,>=0.23.0 in /Users/kamangir/miniconda3/lib/python3.12/site-packages (from langsmith<0.4,>=0.1.17->langchain) (0.28.1)\n",
      "Requirement already satisfied: orjson<4.0.0,>=3.9.14 in /Users/kamangir/miniconda3/lib/python3.12/site-packages (from langsmith<0.4,>=0.1.17->langchain) (3.10.15)\n",
      "Requirement already satisfied: requests-toolbelt<2.0.0,>=1.0.0 in /Users/kamangir/miniconda3/lib/python3.12/site-packages (from langsmith<0.4,>=0.1.17->langchain) (1.0.0)\n",
      "Requirement already satisfied: zstandard<0.24.0,>=0.23.0 in /Users/kamangir/miniconda3/lib/python3.12/site-packages (from langsmith<0.4,>=0.1.17->langchain) (0.23.0)\n",
      "Requirement already satisfied: annotated-types>=0.6.0 in /Users/kamangir/miniconda3/lib/python3.12/site-packages (from pydantic<3.0.0,>=2.7.4->langchain) (0.6.0)\n",
      "Requirement already satisfied: pydantic-core==2.27.1 in /Users/kamangir/miniconda3/lib/python3.12/site-packages (from pydantic<3.0.0,>=2.7.4->langchain) (2.27.1)\n",
      "Requirement already satisfied: charset-normalizer<4,>=2 in /Users/kamangir/miniconda3/lib/python3.12/site-packages (from requests<3,>=2->langchain) (3.3.2)\n",
      "Requirement already satisfied: idna<4,>=2.5 in /Users/kamangir/miniconda3/lib/python3.12/site-packages (from requests<3,>=2->langchain) (3.7)\n",
      "Requirement already satisfied: urllib3<3,>=1.21.1 in /Users/kamangir/miniconda3/lib/python3.12/site-packages (from requests<3,>=2->langchain) (2.3.0)\n",
      "Requirement already satisfied: certifi>=2017.4.17 in /Users/kamangir/miniconda3/lib/python3.12/site-packages (from requests<3,>=2->langchain) (2025.1.31)\n",
      "Requirement already satisfied: greenlet!=0.4.17 in /Users/kamangir/miniconda3/lib/python3.12/site-packages (from SQLAlchemy<3,>=1.4->langchain) (3.1.1)\n",
      "Requirement already satisfied: anyio in /Users/kamangir/miniconda3/lib/python3.12/site-packages (from httpx<1,>=0.23.0->langsmith<0.4,>=0.1.17->langchain) (4.9.0)\n",
      "Requirement already satisfied: httpcore==1.* in /Users/kamangir/miniconda3/lib/python3.12/site-packages (from httpx<1,>=0.23.0->langsmith<0.4,>=0.1.17->langchain) (1.0.7)\n",
      "Requirement already satisfied: h11<0.15,>=0.13 in /Users/kamangir/miniconda3/lib/python3.12/site-packages (from httpcore==1.*->httpx<1,>=0.23.0->langsmith<0.4,>=0.1.17->langchain) (0.14.0)\n",
      "Requirement already satisfied: jsonpointer>=1.9 in /Users/kamangir/miniconda3/lib/python3.12/site-packages (from jsonpatch<2.0,>=1.33->langchain-core<1.0.0,>=0.3.45->langchain) (2.1)\n",
      "Requirement already satisfied: sniffio>=1.1 in /Users/kamangir/miniconda3/lib/python3.12/site-packages (from anyio->httpx<1,>=0.23.0->langsmith<0.4,>=0.1.17->langchain) (1.3.1)\n",
      "Requirement already satisfied: python-dotenv in /Users/kamangir/miniconda3/lib/python3.12/site-packages (1.0.1)\n",
      "Requirement already satisfied: pypdf2 in /Users/kamangir/miniconda3/lib/python3.12/site-packages (3.0.1)\n",
      "Requirement already satisfied: langchain_openai in /Users/kamangir/miniconda3/lib/python3.12/site-packages (0.3.9)\n",
      "Requirement already satisfied: langchain-core<1.0.0,>=0.3.45 in /Users/kamangir/miniconda3/lib/python3.12/site-packages (from langchain_openai) (0.3.47)\n",
      "Requirement already satisfied: openai<2.0.0,>=1.66.3 in /Users/kamangir/miniconda3/lib/python3.12/site-packages (from langchain_openai) (1.66.3)\n",
      "Requirement already satisfied: tiktoken<1,>=0.7 in /Users/kamangir/miniconda3/lib/python3.12/site-packages (from langchain_openai) (0.9.0)\n",
      "Requirement already satisfied: langsmith<0.4,>=0.1.125 in /Users/kamangir/miniconda3/lib/python3.12/site-packages (from langchain-core<1.0.0,>=0.3.45->langchain_openai) (0.3.18)\n",
      "Requirement already satisfied: tenacity!=8.4.0,<10.0.0,>=8.1.0 in /Users/kamangir/miniconda3/lib/python3.12/site-packages (from langchain-core<1.0.0,>=0.3.45->langchain_openai) (9.0.0)\n",
      "Requirement already satisfied: jsonpatch<2.0,>=1.33 in /Users/kamangir/miniconda3/lib/python3.12/site-packages (from langchain-core<1.0.0,>=0.3.45->langchain_openai) (1.33)\n",
      "Requirement already satisfied: PyYAML>=5.3 in /Users/kamangir/miniconda3/lib/python3.12/site-packages (from langchain-core<1.0.0,>=0.3.45->langchain_openai) (6.0.2)\n",
      "Requirement already satisfied: packaging<25,>=23.2 in /Users/kamangir/miniconda3/lib/python3.12/site-packages (from langchain-core<1.0.0,>=0.3.45->langchain_openai) (24.2)\n",
      "Requirement already satisfied: typing-extensions>=4.7 in /Users/kamangir/miniconda3/lib/python3.12/site-packages (from langchain-core<1.0.0,>=0.3.45->langchain_openai) (4.12.2)\n",
      "Requirement already satisfied: pydantic<3.0.0,>=2.7.4 in /Users/kamangir/miniconda3/lib/python3.12/site-packages (from langchain-core<1.0.0,>=0.3.45->langchain_openai) (2.10.3)\n",
      "Requirement already satisfied: anyio<5,>=3.5.0 in /Users/kamangir/miniconda3/lib/python3.12/site-packages (from openai<2.0.0,>=1.66.3->langchain_openai) (4.9.0)\n",
      "Requirement already satisfied: distro<2,>=1.7.0 in /Users/kamangir/miniconda3/lib/python3.12/site-packages (from openai<2.0.0,>=1.66.3->langchain_openai) (1.9.0)\n",
      "Requirement already satisfied: httpx<1,>=0.23.0 in /Users/kamangir/miniconda3/lib/python3.12/site-packages (from openai<2.0.0,>=1.66.3->langchain_openai) (0.28.1)\n",
      "Requirement already satisfied: jiter<1,>=0.4.0 in /Users/kamangir/miniconda3/lib/python3.12/site-packages (from openai<2.0.0,>=1.66.3->langchain_openai) (0.9.0)\n",
      "Requirement already satisfied: sniffio in /Users/kamangir/miniconda3/lib/python3.12/site-packages (from openai<2.0.0,>=1.66.3->langchain_openai) (1.3.1)\n",
      "Requirement already satisfied: tqdm>4 in /Users/kamangir/miniconda3/lib/python3.12/site-packages (from openai<2.0.0,>=1.66.3->langchain_openai) (4.67.1)\n",
      "Requirement already satisfied: regex>=2022.1.18 in /Users/kamangir/miniconda3/lib/python3.12/site-packages (from tiktoken<1,>=0.7->langchain_openai) (2024.11.6)\n",
      "Requirement already satisfied: requests>=2.26.0 in /Users/kamangir/miniconda3/lib/python3.12/site-packages (from tiktoken<1,>=0.7->langchain_openai) (2.32.3)\n",
      "Requirement already satisfied: idna>=2.8 in /Users/kamangir/miniconda3/lib/python3.12/site-packages (from anyio<5,>=3.5.0->openai<2.0.0,>=1.66.3->langchain_openai) (3.7)\n",
      "Requirement already satisfied: certifi in /Users/kamangir/miniconda3/lib/python3.12/site-packages (from httpx<1,>=0.23.0->openai<2.0.0,>=1.66.3->langchain_openai) (2025.1.31)\n",
      "Requirement already satisfied: httpcore==1.* in /Users/kamangir/miniconda3/lib/python3.12/site-packages (from httpx<1,>=0.23.0->openai<2.0.0,>=1.66.3->langchain_openai) (1.0.7)\n",
      "Requirement already satisfied: h11<0.15,>=0.13 in /Users/kamangir/miniconda3/lib/python3.12/site-packages (from httpcore==1.*->httpx<1,>=0.23.0->openai<2.0.0,>=1.66.3->langchain_openai) (0.14.0)\n",
      "Requirement already satisfied: jsonpointer>=1.9 in /Users/kamangir/miniconda3/lib/python3.12/site-packages (from jsonpatch<2.0,>=1.33->langchain-core<1.0.0,>=0.3.45->langchain_openai) (2.1)\n",
      "Requirement already satisfied: orjson<4.0.0,>=3.9.14 in /Users/kamangir/miniconda3/lib/python3.12/site-packages (from langsmith<0.4,>=0.1.125->langchain-core<1.0.0,>=0.3.45->langchain_openai) (3.10.15)\n",
      "Requirement already satisfied: requests-toolbelt<2.0.0,>=1.0.0 in /Users/kamangir/miniconda3/lib/python3.12/site-packages (from langsmith<0.4,>=0.1.125->langchain-core<1.0.0,>=0.3.45->langchain_openai) (1.0.0)\n",
      "Requirement already satisfied: zstandard<0.24.0,>=0.23.0 in /Users/kamangir/miniconda3/lib/python3.12/site-packages (from langsmith<0.4,>=0.1.125->langchain-core<1.0.0,>=0.3.45->langchain_openai) (0.23.0)\n",
      "Requirement already satisfied: annotated-types>=0.6.0 in /Users/kamangir/miniconda3/lib/python3.12/site-packages (from pydantic<3.0.0,>=2.7.4->langchain-core<1.0.0,>=0.3.45->langchain_openai) (0.6.0)\n",
      "Requirement already satisfied: pydantic-core==2.27.1 in /Users/kamangir/miniconda3/lib/python3.12/site-packages (from pydantic<3.0.0,>=2.7.4->langchain-core<1.0.0,>=0.3.45->langchain_openai) (2.27.1)\n",
      "Requirement already satisfied: charset-normalizer<4,>=2 in /Users/kamangir/miniconda3/lib/python3.12/site-packages (from requests>=2.26.0->tiktoken<1,>=0.7->langchain_openai) (3.3.2)\n",
      "Requirement already satisfied: urllib3<3,>=1.21.1 in /Users/kamangir/miniconda3/lib/python3.12/site-packages (from requests>=2.26.0->tiktoken<1,>=0.7->langchain_openai) (2.3.0)\n",
      "Requirement already satisfied: sentence-transformers in /Users/kamangir/miniconda3/lib/python3.12/site-packages (3.4.1)\n",
      "Requirement already satisfied: transformers<5.0.0,>=4.41.0 in /Users/kamangir/miniconda3/lib/python3.12/site-packages (from sentence-transformers) (4.49.0)\n",
      "Requirement already satisfied: tqdm in /Users/kamangir/miniconda3/lib/python3.12/site-packages (from sentence-transformers) (4.67.1)\n",
      "Requirement already satisfied: torch>=1.11.0 in /Users/kamangir/miniconda3/lib/python3.12/site-packages (from sentence-transformers) (2.2.2)\n",
      "Requirement already satisfied: scikit-learn in /Users/kamangir/miniconda3/lib/python3.12/site-packages (from sentence-transformers) (1.6.1)\n",
      "Requirement already satisfied: scipy in /Users/kamangir/miniconda3/lib/python3.12/site-packages (from sentence-transformers) (1.15.2)\n",
      "Requirement already satisfied: huggingface-hub>=0.20.0 in /Users/kamangir/miniconda3/lib/python3.12/site-packages (from sentence-transformers) (0.29.3)\n",
      "Requirement already satisfied: Pillow in /Users/kamangir/miniconda3/lib/python3.12/site-packages (from sentence-transformers) (11.1.0)\n",
      "Requirement already satisfied: filelock in /Users/kamangir/miniconda3/lib/python3.12/site-packages (from huggingface-hub>=0.20.0->sentence-transformers) (3.18.0)\n",
      "Requirement already satisfied: fsspec>=2023.5.0 in /Users/kamangir/miniconda3/lib/python3.12/site-packages (from huggingface-hub>=0.20.0->sentence-transformers) (2025.3.0)\n",
      "Requirement already satisfied: packaging>=20.9 in /Users/kamangir/miniconda3/lib/python3.12/site-packages (from huggingface-hub>=0.20.0->sentence-transformers) (24.2)\n",
      "Requirement already satisfied: pyyaml>=5.1 in /Users/kamangir/miniconda3/lib/python3.12/site-packages (from huggingface-hub>=0.20.0->sentence-transformers) (6.0.2)\n",
      "Requirement already satisfied: requests in /Users/kamangir/miniconda3/lib/python3.12/site-packages (from huggingface-hub>=0.20.0->sentence-transformers) (2.32.3)\n",
      "Requirement already satisfied: typing-extensions>=3.7.4.3 in /Users/kamangir/miniconda3/lib/python3.12/site-packages (from huggingface-hub>=0.20.0->sentence-transformers) (4.12.2)\n",
      "Requirement already satisfied: sympy in /Users/kamangir/miniconda3/lib/python3.12/site-packages (from torch>=1.11.0->sentence-transformers) (1.13.3)\n",
      "Requirement already satisfied: networkx in /Users/kamangir/miniconda3/lib/python3.12/site-packages (from torch>=1.11.0->sentence-transformers) (3.4.2)\n",
      "Requirement already satisfied: jinja2 in /Users/kamangir/miniconda3/lib/python3.12/site-packages (from torch>=1.11.0->sentence-transformers) (3.1.6)\n",
      "Requirement already satisfied: numpy>=1.17 in /Users/kamangir/miniconda3/lib/python3.12/site-packages (from transformers<5.0.0,>=4.41.0->sentence-transformers) (1.26.4)\n",
      "Requirement already satisfied: regex!=2019.12.17 in /Users/kamangir/miniconda3/lib/python3.12/site-packages (from transformers<5.0.0,>=4.41.0->sentence-transformers) (2024.11.6)\n",
      "Requirement already satisfied: tokenizers<0.22,>=0.21 in /Users/kamangir/miniconda3/lib/python3.12/site-packages (from transformers<5.0.0,>=4.41.0->sentence-transformers) (0.21.1)\n",
      "Requirement already satisfied: safetensors>=0.4.1 in /Users/kamangir/miniconda3/lib/python3.12/site-packages (from transformers<5.0.0,>=4.41.0->sentence-transformers) (0.5.3)\n",
      "Requirement already satisfied: joblib>=1.2.0 in /Users/kamangir/miniconda3/lib/python3.12/site-packages (from scikit-learn->sentence-transformers) (1.4.2)\n",
      "Requirement already satisfied: threadpoolctl>=3.1.0 in /Users/kamangir/miniconda3/lib/python3.12/site-packages (from scikit-learn->sentence-transformers) (3.6.0)\n",
      "Requirement already satisfied: MarkupSafe>=2.0 in /Users/kamangir/miniconda3/lib/python3.12/site-packages (from jinja2->torch>=1.11.0->sentence-transformers) (3.0.2)\n",
      "Requirement already satisfied: charset-normalizer<4,>=2 in /Users/kamangir/miniconda3/lib/python3.12/site-packages (from requests->huggingface-hub>=0.20.0->sentence-transformers) (3.3.2)\n",
      "Requirement already satisfied: idna<4,>=2.5 in /Users/kamangir/miniconda3/lib/python3.12/site-packages (from requests->huggingface-hub>=0.20.0->sentence-transformers) (3.7)\n",
      "Requirement already satisfied: urllib3<3,>=1.21.1 in /Users/kamangir/miniconda3/lib/python3.12/site-packages (from requests->huggingface-hub>=0.20.0->sentence-transformers) (2.3.0)\n",
      "Requirement already satisfied: certifi>=2017.4.17 in /Users/kamangir/miniconda3/lib/python3.12/site-packages (from requests->huggingface-hub>=0.20.0->sentence-transformers) (2025.1.31)\n",
      "Requirement already satisfied: mpmath<1.4,>=1.1.0 in /Users/kamangir/miniconda3/lib/python3.12/site-packages (from sympy->torch>=1.11.0->sentence-transformers) (1.3.0)\n",
      "Requirement already satisfied: langchain_community in /Users/kamangir/miniconda3/lib/python3.12/site-packages (0.3.20)\n",
      "Requirement already satisfied: langchain-core<1.0.0,>=0.3.45 in /Users/kamangir/miniconda3/lib/python3.12/site-packages (from langchain_community) (0.3.47)\n",
      "Requirement already satisfied: langchain<1.0.0,>=0.3.21 in /Users/kamangir/miniconda3/lib/python3.12/site-packages (from langchain_community) (0.3.21)\n",
      "Requirement already satisfied: SQLAlchemy<3,>=1.4 in /Users/kamangir/miniconda3/lib/python3.12/site-packages (from langchain_community) (2.0.39)\n",
      "Requirement already satisfied: requests<3,>=2 in /Users/kamangir/miniconda3/lib/python3.12/site-packages (from langchain_community) (2.32.3)\n",
      "Requirement already satisfied: PyYAML>=5.3 in /Users/kamangir/miniconda3/lib/python3.12/site-packages (from langchain_community) (6.0.2)\n",
      "Requirement already satisfied: aiohttp<4.0.0,>=3.8.3 in /Users/kamangir/miniconda3/lib/python3.12/site-packages (from langchain_community) (3.11.14)\n",
      "Requirement already satisfied: tenacity!=8.4.0,<10,>=8.1.0 in /Users/kamangir/miniconda3/lib/python3.12/site-packages (from langchain_community) (9.0.0)\n",
      "Requirement already satisfied: dataclasses-json<0.7,>=0.5.7 in /Users/kamangir/miniconda3/lib/python3.12/site-packages (from langchain_community) (0.6.7)\n",
      "Requirement already satisfied: pydantic-settings<3.0.0,>=2.4.0 in /Users/kamangir/miniconda3/lib/python3.12/site-packages (from langchain_community) (2.8.1)\n",
      "Requirement already satisfied: langsmith<0.4,>=0.1.125 in /Users/kamangir/miniconda3/lib/python3.12/site-packages (from langchain_community) (0.3.18)\n",
      "Requirement already satisfied: httpx-sse<1.0.0,>=0.4.0 in /Users/kamangir/miniconda3/lib/python3.12/site-packages (from langchain_community) (0.4.0)\n",
      "Requirement already satisfied: numpy<3,>=1.26.2 in /Users/kamangir/miniconda3/lib/python3.12/site-packages (from langchain_community) (1.26.4)\n",
      "Requirement already satisfied: aiohappyeyeballs>=2.3.0 in /Users/kamangir/miniconda3/lib/python3.12/site-packages (from aiohttp<4.0.0,>=3.8.3->langchain_community) (2.6.1)\n",
      "Requirement already satisfied: aiosignal>=1.1.2 in /Users/kamangir/miniconda3/lib/python3.12/site-packages (from aiohttp<4.0.0,>=3.8.3->langchain_community) (1.3.2)\n",
      "Requirement already satisfied: attrs>=17.3.0 in /Users/kamangir/miniconda3/lib/python3.12/site-packages (from aiohttp<4.0.0,>=3.8.3->langchain_community) (25.3.0)\n",
      "Requirement already satisfied: frozenlist>=1.1.1 in /Users/kamangir/miniconda3/lib/python3.12/site-packages (from aiohttp<4.0.0,>=3.8.3->langchain_community) (1.5.0)\n",
      "Requirement already satisfied: multidict<7.0,>=4.5 in /Users/kamangir/miniconda3/lib/python3.12/site-packages (from aiohttp<4.0.0,>=3.8.3->langchain_community) (6.2.0)\n",
      "Requirement already satisfied: propcache>=0.2.0 in /Users/kamangir/miniconda3/lib/python3.12/site-packages (from aiohttp<4.0.0,>=3.8.3->langchain_community) (0.3.0)\n",
      "Requirement already satisfied: yarl<2.0,>=1.17.0 in /Users/kamangir/miniconda3/lib/python3.12/site-packages (from aiohttp<4.0.0,>=3.8.3->langchain_community) (1.18.3)\n",
      "Requirement already satisfied: marshmallow<4.0.0,>=3.18.0 in /Users/kamangir/miniconda3/lib/python3.12/site-packages (from dataclasses-json<0.7,>=0.5.7->langchain_community) (3.26.1)\n",
      "Requirement already satisfied: typing-inspect<1,>=0.4.0 in /Users/kamangir/miniconda3/lib/python3.12/site-packages (from dataclasses-json<0.7,>=0.5.7->langchain_community) (0.9.0)\n",
      "Requirement already satisfied: langchain-text-splitters<1.0.0,>=0.3.7 in /Users/kamangir/miniconda3/lib/python3.12/site-packages (from langchain<1.0.0,>=0.3.21->langchain_community) (0.3.7)\n",
      "Requirement already satisfied: pydantic<3.0.0,>=2.7.4 in /Users/kamangir/miniconda3/lib/python3.12/site-packages (from langchain<1.0.0,>=0.3.21->langchain_community) (2.10.3)\n",
      "Requirement already satisfied: jsonpatch<2.0,>=1.33 in /Users/kamangir/miniconda3/lib/python3.12/site-packages (from langchain-core<1.0.0,>=0.3.45->langchain_community) (1.33)\n",
      "Requirement already satisfied: packaging<25,>=23.2 in /Users/kamangir/miniconda3/lib/python3.12/site-packages (from langchain-core<1.0.0,>=0.3.45->langchain_community) (24.2)\n",
      "Requirement already satisfied: typing-extensions>=4.7 in /Users/kamangir/miniconda3/lib/python3.12/site-packages (from langchain-core<1.0.0,>=0.3.45->langchain_community) (4.12.2)\n",
      "Requirement already satisfied: httpx<1,>=0.23.0 in /Users/kamangir/miniconda3/lib/python3.12/site-packages (from langsmith<0.4,>=0.1.125->langchain_community) (0.28.1)\n",
      "Requirement already satisfied: orjson<4.0.0,>=3.9.14 in /Users/kamangir/miniconda3/lib/python3.12/site-packages (from langsmith<0.4,>=0.1.125->langchain_community) (3.10.15)\n",
      "Requirement already satisfied: requests-toolbelt<2.0.0,>=1.0.0 in /Users/kamangir/miniconda3/lib/python3.12/site-packages (from langsmith<0.4,>=0.1.125->langchain_community) (1.0.0)\n",
      "Requirement already satisfied: zstandard<0.24.0,>=0.23.0 in /Users/kamangir/miniconda3/lib/python3.12/site-packages (from langsmith<0.4,>=0.1.125->langchain_community) (0.23.0)\n",
      "Requirement already satisfied: python-dotenv>=0.21.0 in /Users/kamangir/miniconda3/lib/python3.12/site-packages (from pydantic-settings<3.0.0,>=2.4.0->langchain_community) (1.0.1)\n",
      "Requirement already satisfied: charset-normalizer<4,>=2 in /Users/kamangir/miniconda3/lib/python3.12/site-packages (from requests<3,>=2->langchain_community) (3.3.2)\n",
      "Requirement already satisfied: idna<4,>=2.5 in /Users/kamangir/miniconda3/lib/python3.12/site-packages (from requests<3,>=2->langchain_community) (3.7)\n",
      "Requirement already satisfied: urllib3<3,>=1.21.1 in /Users/kamangir/miniconda3/lib/python3.12/site-packages (from requests<3,>=2->langchain_community) (2.3.0)\n",
      "Requirement already satisfied: certifi>=2017.4.17 in /Users/kamangir/miniconda3/lib/python3.12/site-packages (from requests<3,>=2->langchain_community) (2025.1.31)\n",
      "Requirement already satisfied: greenlet!=0.4.17 in /Users/kamangir/miniconda3/lib/python3.12/site-packages (from SQLAlchemy<3,>=1.4->langchain_community) (3.1.1)\n",
      "Requirement already satisfied: anyio in /Users/kamangir/miniconda3/lib/python3.12/site-packages (from httpx<1,>=0.23.0->langsmith<0.4,>=0.1.125->langchain_community) (4.9.0)\n",
      "Requirement already satisfied: httpcore==1.* in /Users/kamangir/miniconda3/lib/python3.12/site-packages (from httpx<1,>=0.23.0->langsmith<0.4,>=0.1.125->langchain_community) (1.0.7)\n",
      "Requirement already satisfied: h11<0.15,>=0.13 in /Users/kamangir/miniconda3/lib/python3.12/site-packages (from httpcore==1.*->httpx<1,>=0.23.0->langsmith<0.4,>=0.1.125->langchain_community) (0.14.0)\n",
      "Requirement already satisfied: jsonpointer>=1.9 in /Users/kamangir/miniconda3/lib/python3.12/site-packages (from jsonpatch<2.0,>=1.33->langchain-core<1.0.0,>=0.3.45->langchain_community) (2.1)\n",
      "Requirement already satisfied: annotated-types>=0.6.0 in /Users/kamangir/miniconda3/lib/python3.12/site-packages (from pydantic<3.0.0,>=2.7.4->langchain<1.0.0,>=0.3.21->langchain_community) (0.6.0)\n",
      "Requirement already satisfied: pydantic-core==2.27.1 in /Users/kamangir/miniconda3/lib/python3.12/site-packages (from pydantic<3.0.0,>=2.7.4->langchain<1.0.0,>=0.3.21->langchain_community) (2.27.1)\n",
      "Requirement already satisfied: mypy-extensions>=0.3.0 in /Users/kamangir/miniconda3/lib/python3.12/site-packages (from typing-inspect<1,>=0.4.0->dataclasses-json<0.7,>=0.5.7->langchain_community) (1.0.0)\n",
      "Requirement already satisfied: sniffio>=1.1 in /Users/kamangir/miniconda3/lib/python3.12/site-packages (from anyio->httpx<1,>=0.23.0->langsmith<0.4,>=0.1.125->langchain_community) (1.3.1)\n",
      "Requirement already satisfied: streamlit in /Users/kamangir/miniconda3/lib/python3.12/site-packages (1.43.2)\n",
      "Requirement already satisfied: altair<6,>=4.0 in /Users/kamangir/miniconda3/lib/python3.12/site-packages (from streamlit) (5.5.0)\n",
      "Requirement already satisfied: blinker<2,>=1.0.0 in /Users/kamangir/miniconda3/lib/python3.12/site-packages (from streamlit) (1.9.0)\n",
      "Requirement already satisfied: cachetools<6,>=4.0 in /Users/kamangir/miniconda3/lib/python3.12/site-packages (from streamlit) (5.5.2)\n",
      "Requirement already satisfied: click<9,>=7.0 in /Users/kamangir/miniconda3/lib/python3.12/site-packages (from streamlit) (8.1.8)\n",
      "Requirement already satisfied: numpy<3,>=1.23 in /Users/kamangir/miniconda3/lib/python3.12/site-packages (from streamlit) (1.26.4)\n",
      "Requirement already satisfied: packaging<25,>=20 in /Users/kamangir/miniconda3/lib/python3.12/site-packages (from streamlit) (24.2)\n",
      "Requirement already satisfied: pandas<3,>=1.4.0 in /Users/kamangir/miniconda3/lib/python3.12/site-packages (from streamlit) (2.2.3)\n",
      "Requirement already satisfied: pillow<12,>=7.1.0 in /Users/kamangir/miniconda3/lib/python3.12/site-packages (from streamlit) (11.1.0)\n",
      "Requirement already satisfied: protobuf<6,>=3.20 in /Users/kamangir/miniconda3/lib/python3.12/site-packages (from streamlit) (5.29.3)\n",
      "Requirement already satisfied: pyarrow>=7.0 in /Users/kamangir/miniconda3/lib/python3.12/site-packages (from streamlit) (18.1.0)\n",
      "Requirement already satisfied: requests<3,>=2.27 in /Users/kamangir/miniconda3/lib/python3.12/site-packages (from streamlit) (2.32.3)\n",
      "Requirement already satisfied: tenacity<10,>=8.1.0 in /Users/kamangir/miniconda3/lib/python3.12/site-packages (from streamlit) (9.0.0)\n",
      "Requirement already satisfied: toml<2,>=0.10.1 in /Users/kamangir/miniconda3/lib/python3.12/site-packages (from streamlit) (0.10.2)\n",
      "Requirement already satisfied: typing-extensions<5,>=4.4.0 in /Users/kamangir/miniconda3/lib/python3.12/site-packages (from streamlit) (4.12.2)\n",
      "Requirement already satisfied: gitpython!=3.1.19,<4,>=3.0.7 in /Users/kamangir/miniconda3/lib/python3.12/site-packages (from streamlit) (3.1.44)\n",
      "Requirement already satisfied: pydeck<1,>=0.8.0b4 in /Users/kamangir/miniconda3/lib/python3.12/site-packages (from streamlit) (0.9.1)\n",
      "Requirement already satisfied: tornado<7,>=6.0.3 in /Users/kamangir/miniconda3/lib/python3.12/site-packages (from streamlit) (6.4.2)\n",
      "Requirement already satisfied: jinja2 in /Users/kamangir/miniconda3/lib/python3.12/site-packages (from altair<6,>=4.0->streamlit) (3.1.6)\n",
      "Requirement already satisfied: jsonschema>=3.0 in /Users/kamangir/miniconda3/lib/python3.12/site-packages (from altair<6,>=4.0->streamlit) (4.23.0)\n",
      "Requirement already satisfied: narwhals>=1.14.2 in /Users/kamangir/miniconda3/lib/python3.12/site-packages (from altair<6,>=4.0->streamlit) (1.31.0)\n",
      "Requirement already satisfied: gitdb<5,>=4.0.1 in /Users/kamangir/miniconda3/lib/python3.12/site-packages (from gitpython!=3.1.19,<4,>=3.0.7->streamlit) (4.0.12)\n",
      "Requirement already satisfied: python-dateutil>=2.8.2 in /Users/kamangir/miniconda3/lib/python3.12/site-packages (from pandas<3,>=1.4.0->streamlit) (2.9.0.post0)\n",
      "Requirement already satisfied: pytz>=2020.1 in /Users/kamangir/miniconda3/lib/python3.12/site-packages (from pandas<3,>=1.4.0->streamlit) (2025.1)\n",
      "Requirement already satisfied: tzdata>=2022.7 in /Users/kamangir/miniconda3/lib/python3.12/site-packages (from pandas<3,>=1.4.0->streamlit) (2025.1)\n",
      "Requirement already satisfied: charset-normalizer<4,>=2 in /Users/kamangir/miniconda3/lib/python3.12/site-packages (from requests<3,>=2.27->streamlit) (3.3.2)\n",
      "Requirement already satisfied: idna<4,>=2.5 in /Users/kamangir/miniconda3/lib/python3.12/site-packages (from requests<3,>=2.27->streamlit) (3.7)\n",
      "Requirement already satisfied: urllib3<3,>=1.21.1 in /Users/kamangir/miniconda3/lib/python3.12/site-packages (from requests<3,>=2.27->streamlit) (2.3.0)\n",
      "Requirement already satisfied: certifi>=2017.4.17 in /Users/kamangir/miniconda3/lib/python3.12/site-packages (from requests<3,>=2.27->streamlit) (2025.1.31)\n",
      "Requirement already satisfied: smmap<6,>=3.0.1 in /Users/kamangir/miniconda3/lib/python3.12/site-packages (from gitdb<5,>=4.0.1->gitpython!=3.1.19,<4,>=3.0.7->streamlit) (5.0.2)\n",
      "Requirement already satisfied: MarkupSafe>=2.0 in /Users/kamangir/miniconda3/lib/python3.12/site-packages (from jinja2->altair<6,>=4.0->streamlit) (3.0.2)\n",
      "Requirement already satisfied: attrs>=22.2.0 in /Users/kamangir/miniconda3/lib/python3.12/site-packages (from jsonschema>=3.0->altair<6,>=4.0->streamlit) (25.3.0)\n",
      "Requirement already satisfied: jsonschema-specifications>=2023.03.6 in /Users/kamangir/miniconda3/lib/python3.12/site-packages (from jsonschema>=3.0->altair<6,>=4.0->streamlit) (2024.10.1)\n",
      "Requirement already satisfied: referencing>=0.28.4 in /Users/kamangir/miniconda3/lib/python3.12/site-packages (from jsonschema>=3.0->altair<6,>=4.0->streamlit) (0.36.2)\n",
      "Requirement already satisfied: rpds-py>=0.7.1 in /Users/kamangir/miniconda3/lib/python3.12/site-packages (from jsonschema>=3.0->altair<6,>=4.0->streamlit) (0.23.1)\n",
      "Requirement already satisfied: six>=1.5 in /Users/kamangir/miniconda3/lib/python3.12/site-packages (from python-dateutil>=2.8.2->pandas<3,>=1.4.0->streamlit) (1.17.0)\n"
     ]
    }
   ],
   "source": [
    "!pip install openai\n",
    "!pip install faiss-cpu\n",
    "!pip install langchain\n",
    "!pip install python-dotenv\n",
    "!pip install pypdf2\n",
    "!pip install langchain_openai\n",
    "!pip install sentence-transformers\n",
    "!pip install langchain_community\n",
    "!pip install streamlit"
   ]
  },
  {
   "cell_type": "code",
   "execution_count": 2,
   "metadata": {
    "executionInfo": {
     "elapsed": 1238,
     "status": "ok",
     "timestamp": 1705128324366,
     "user": {
      "displayName": "Gaurav Mishra",
      "userId": "05225046088428816217"
     },
     "user_tz": 300
    },
    "id": "xrzbMryYNdIc"
   },
   "outputs": [],
   "source": [
    "from openai import OpenAI\n",
    "import os\n",
    "from dotenv import load_dotenv\n",
    "import PyPDF2 as pypdf\n",
    "from langchain.text_splitter import RecursiveCharacterTextSplitter\n",
    "#from langchain_openai import OpenAIEmbeddings\n",
    "from langchain_community.vectorstores import FAISS\n",
    "from langchain_community.embeddings import HuggingFaceEmbeddings\n",
    "from langchain.prompts import PromptTemplate\n",
    "\n",
    "from langchain.chains import LLMChain\n",
    "from langchain_openai import ChatOpenAI\n",
    "\n",
    "from langchain_community.llms import HuggingFaceHub\n",
    "import streamlit as st\n",
    "\n",
    "from openai_commands.env import OPENAI_API_KEY\n",
    "\n",
    "load_dotenv()\n",
    "\n",
    "client = OpenAI(api_key = OPENAI_API_KEY)"
   ]
  },
  {
   "cell_type": "markdown",
   "metadata": {
    "id": "enUpTOtmUUw8"
   },
   "source": [
    "### Split PDF to chunks"
   ]
  },
  {
   "cell_type": "code",
   "execution_count": 3,
   "metadata": {
    "executionInfo": {
     "elapsed": 154,
     "status": "ok",
     "timestamp": 1705128483579,
     "user": {
      "displayName": "Gaurav Mishra",
      "userId": "05225046088428816217"
     },
     "user_tz": 300
    },
    "id": "bNbqEwMlRm2O"
   },
   "outputs": [],
   "source": [
    "def pdf_to_faiss(pdf_location, chunk_size=800, chunk_overlap=100):\n",
    "    #pdf_location = '/content/drive/MyDrive/Colab Notebooks/LangchainRAGQA/budget_speech.pdf'\n",
    "    pdf = pypdf.PdfReader(pdf_location)\n",
    "    full_text = ''\n",
    "    for i, content in enumerate(pdf.pages):\n",
    "        raw_text = content.extract_text()\n",
    "        full_text += raw_text\n",
    "    text_splits = RecursiveCharacterTextSplitter(separators='\\n', chunk_size = 800, chunk_overlap = 100, length_function=len).split_text(full_text)\n",
    "    embeddings = HuggingFaceEmbeddings()\n",
    "    db = FAISS.from_texts(text_splits, embeddings)\n",
    "    return db"
   ]
  },
  {
   "cell_type": "code",
   "execution_count": 4,
   "metadata": {
    "executionInfo": {
     "elapsed": 152,
     "status": "ok",
     "timestamp": 1705129065862,
     "user": {
      "displayName": "Gaurav Mishra",
      "userId": "05225046088428816217"
     },
     "user_tz": 300
    },
    "id": "m-yaoUE-Px49"
   },
   "outputs": [],
   "source": [
    "docs=''\n",
    "def answer(db, question):\n",
    "    repo_id = \"mistralai/Mixtral-8x7B-Instruct-v0.1\" #\"google/flan-t5-base\"\n",
    "    model = HuggingFaceHub(\n",
    "        repo_id=repo_id, model_kwargs={\"temperature\": 0.7, \"max_length\": 5000}\n",
    "    )\n",
    "    docs = db.similarity_search(question, k=10)\n",
    "    prompt = \"\"\"Answer the following QUESTION based on the CONTEXT\n",
    "    given. If you do not know the answer and the CONTEXT doesn't\n",
    "    contain the answer truthfully say \"I don't know\"\n",
    "\n",
    "        CONTEXT:{context}\n",
    "        QUESTION:{question}\n",
    "        ANSWER:\n",
    "        \"\"\"\n",
    "\n",
    "    prompt_template = PromptTemplate(\n",
    "        input_variables=[\"context\", \"question\"],\n",
    "        template=prompt,\n",
    "    )\n",
    "    chain = LLMChain(llm=model, prompt=prompt_template)\n",
    "    return prompt, docs, chain.run(context = docs, question=question)"
   ]
  },
  {
   "cell_type": "code",
   "execution_count": 5,
   "metadata": {
    "executionInfo": {
     "elapsed": 117589,
     "status": "ok",
     "timestamp": 1705128910874,
     "user": {
      "displayName": "Gaurav Mishra",
      "userId": "05225046088428816217"
     },
     "user_tz": 300
    },
    "id": "tAXWSaqQk-j_"
   },
   "outputs": [
    {
     "name": "stderr",
     "output_type": "stream",
     "text": [
      "/var/folders/zt/yvc9hx9x3txdbl3ny6bfz6qr0000gn/T/ipykernel_80593/3422684015.py:9: LangChainDeprecationWarning: The class `HuggingFaceEmbeddings` was deprecated in LangChain 0.2.2 and will be removed in 1.0. An updated version of the class exists in the :class:`~langchain-huggingface package and should be used instead. To use it run `pip install -U :class:`~langchain-huggingface` and import as `from :class:`~langchain_huggingface import HuggingFaceEmbeddings``.\n",
      "  embeddings = HuggingFaceEmbeddings()\n",
      "/var/folders/zt/yvc9hx9x3txdbl3ny6bfz6qr0000gn/T/ipykernel_80593/3422684015.py:9: LangChainDeprecationWarning: Default values for HuggingFaceEmbeddings.model_name were deprecated in LangChain 0.2.16 and will be removed in 0.4.0. Explicitly pass a model_name to the HuggingFaceEmbeddings constructor instead.\n",
      "  embeddings = HuggingFaceEmbeddings()\n",
      "/Users/kamangir/miniconda3/lib/python3.12/site-packages/tqdm/auto.py:21: TqdmWarning: IProgress not found. Please update jupyter and ipywidgets. See https://ipywidgets.readthedocs.io/en/stable/user_install.html\n",
      "  from .autonotebook import tqdm as notebook_tqdm\n"
     ]
    }
   ],
   "source": [
    "db = pdf_to_faiss('/Users/kamangir/Desktop/arash-abadpour-resume-full.pdf')"
   ]
  },
  {
   "cell_type": "code",
   "execution_count": 6,
   "metadata": {
    "colab": {
     "base_uri": "https://localhost:8080/"
    },
    "executionInfo": {
     "elapsed": 290,
     "status": "ok",
     "timestamp": 1705129121972,
     "user": {
      "displayName": "Gaurav Mishra",
      "userId": "05225046088428816217"
     },
     "user_tz": 300
    },
    "id": "6a_dMxVblHU9",
    "outputId": "d1ce899f-429d-4cae-a717-a2544d6fd61c"
   },
   "outputs": [
    {
     "name": "stderr",
     "output_type": "stream",
     "text": [
      "/var/folders/zt/yvc9hx9x3txdbl3ny6bfz6qr0000gn/T/ipykernel_80593/832680625.py:4: LangChainDeprecationWarning: The class `HuggingFaceHub` was deprecated in LangChain 0.0.21 and will be removed in 1.0. An updated version of the class exists in the :class:`~langchain-huggingface package and should be used instead. To use it run `pip install -U :class:`~langchain-huggingface` and import as `from :class:`~langchain_huggingface import HuggingFaceEndpoint``.\n",
      "  model = HuggingFaceHub(\n",
      "/var/folders/zt/yvc9hx9x3txdbl3ny6bfz6qr0000gn/T/ipykernel_80593/832680625.py:21: LangChainDeprecationWarning: The class `LLMChain` was deprecated in LangChain 0.1.17 and will be removed in 1.0. Use :meth:`~RunnableSequence, e.g., `prompt | llm`` instead.\n",
      "  chain = LLMChain(llm=model, prompt=prompt_template)\n",
      "/var/folders/zt/yvc9hx9x3txdbl3ny6bfz6qr0000gn/T/ipykernel_80593/832680625.py:22: LangChainDeprecationWarning: The method `Chain.run` was deprecated in langchain 0.1.0 and will be removed in 1.0. Use :meth:`~invoke` instead.\n",
      "  return prompt, docs, chain.run(context = docs, question=question)\n",
      "/Users/kamangir/miniconda3/lib/python3.12/site-packages/huggingface_hub/utils/_deprecation.py:131: FutureWarning: 'post' (from 'huggingface_hub.inference._client') is deprecated and will be removed from version '0.31.0'. Making direct POST requests to the inference server is not supported anymore. Please use task methods instead (e.g. `InferenceClient.chat_completion`). If your use case is not supported, please open an issue in https://github.com/huggingface/huggingface_hub.\n",
      "  warnings.warn(warning_message, FutureWarning)\n"
     ]
    },
    {
     "name": "stdout",
     "output_type": "stream",
     "text": [
      "Answer the following QUESTION based on the CONTEXT\n",
      "    given. If you do not know the answer and the CONTEXT doesn't\n",
      "    contain the answer truthfully say \"I don't know\"\n",
      "\n",
      "        CONTEXT:[Document(id='cdba225c-2e43-45d9-94b3-1493ecbc75d0', metadata={}, page_content='Arash Abadpour\\n15+ Years of Hands-On Machine Vision, Deep Learning & Geospa tial AI.\\nrepo: github.com/kamangir\\nExperience\\n2022–2025 Staﬀ Software Engineer ,EarthDaily Analytics, Vancouver, Canada .\\nEarthDaily observes, veriﬁes, & predicts changes to the Ear thś surface to help people\\nunderstand & take action.\\n2022 Senior Machine Learning Engineer (Computer Vision) ,Vivid Machines,\\nToronto, Canada .\\nSmart technology to help fruit and vegetable farmers optimi ze quality and yield.\\n2020–2022 Vice President, Data Science ,Savormetrics Inc., Mississauga, Canada .\\nDeep Learning + Food Inspection = Increasing Proﬁts. Reduci ng Waste. Improving Cus-\\ntomer Satisfaction.\\n2019–2020 Lead Data Scientist ,Betterview Marketplace, San Diego, USA .'), Document(id='ff8a041e-4620-4d84-a54f-74a6e7767764', metadata={}, page_content='tomer Satisfaction.\\n2019–2020 Lead Data Scientist ,Betterview Marketplace, San Diego, USA .\\nDesign, development, and deployment of a deep learning fram ework that consumes aerial\\nimages and other types of data relevant to the insurance indu stry and produces property\\ninsights.\\n2016–2019 Senior Scientiﬁc Developer ,Fio Corporation, Toronto, Canada .\\nDesign, development, and deployment of a learning-enabled machine vision system that\\nvisually identiﬁes and analyzes rapid diagnostics tests (r dt) for infectious diseases such\\nas HIV, Malaria, Dengue, Zika, and others. At inference time , the ML models are run\\non an android device with limited network and power access. T herefore, battery usage\\noptimization and tolerance to long periods of disconnectiv ity were essential considerations.'), Document(id='cbee3cc4-9b3a-4118-a767-54d8e90d437d', metadata={}, page_content='AWS Batch, Argo Workﬂows .\\nDatabases ,MySQL, Amazon RDS, PostgreSQL .\\nSoftware Development ,agile development, JIRA, git, gitlab, papertrail, ci/cd,\\ndocker .\\nHardware ,Jetson, integration w/ cameras and sensors, Raspberry Pi, 3 D design and\\nprint, general electronics, general digital electronics, general circuits .\\nWeb,Django, Flask, php .\\nOther ,LATEX, POV-Ray, IVT, PCL, CImg, OpenGL, Armadillo, Gandalf, Cer es Solver,\\nand other open-source tools .\\nCertiﬁcations\\n2022 AWS Cloud Technical Essentials .\\nBy Amazon Web Services on Coursera\\nH+1 647 567 3487 • Barash.abadpour@gmail.com3/82019 Deep Learning Specialization ,Five-Course Specialization .\\nBy Andrew Ng (deeplearning.ai)\\n2017 Neural Networks for Machine Learning .\\nBy the University of Toronto on Coursera\\n2017 Machine Learning .'), Document(id='8dedfb88-b8ad-4817-91fa-a4dbf7a7477b', metadata={}, page_content='Arash Abadpour “A Sequential Bayesian Alternative to the Classical Paralle l Fuzzy\\nClustering Model ”, Information Sciences, Volume 318, October 2015, Pages 28 –47\\nArash Abadpour “On Applications of Pyramid Doubly Joint Bilateral Filterin g in\\nDense Disparity Propagation ”, 3D Research, Volume 5, Issue 2, 25 April 2014, Pages\\n1–20.\\nArash Abadpour , Attahiru Sule Alfa, and Anthony C.K. Soong, “ Approximation\\nAlgorithms For Maximizing The Information-Theoretic Sum C apacity of Reverse Link\\nCDMA Systems ”, AEU - International Journal of Electronics and Communica tions,\\nVolume 63, Issue 2, 4 February 2009, Pages 108–115.\\nArash Abadpour and Shohreh Kasaei. “ A Novel Color Image Compression Method\\nusing Eigenimages ”, Journal of Iranian Association of Electrical and Electro nics En-'), Document(id='4630c68d-7da3-4e7a-b70f-96a520aa9a3c', metadata={}, page_content='video resources for copyright protection ”, In the 5th IEEE International Symposium\\non Signal Processing and Information Technology (ISSPIT 20 05), Athens, Greece,\\npages 369–374, 2005.\\nArash Abadpour and Shohreh Kasaei, “ Comprehensive Evaluation of the Pixel-\\nBased Skin Detection Approach for Pornography Filtering in the Internet Resources ”,\\nIn the International Symposium on Telecommunications, (IS T 2005), Pages 829–834,\\nShiraz, Iran, September 2005.\\nArash Abadpour and Shohreh Kasaei, “ Wavelet-PCA-Based Compression Method\\nfor Color Images (Invited Paper) ”, In the First Symposium on Wavelet and its Appli-\\ncations, Tehran, Iran, February 2005.\\nArash Abadpour and Shohreh Kasaei, “ An Unsupervised Fast Color Transfer'), Document(id='e06d36ad-e022-4363-8e46-2f97edac1bf7', metadata={}, page_content='By the University of Toronto on Coursera\\n2017 Machine Learning .\\nBy Stanford University on Coursera\\n2017 Machine Learning ,Four-Course Specialization .\\nBy the University of Washington on Coursera\\n2013 Patents ,Understanding Patents - An Introductory Course .\\nMcGill University School of Continuing Studies\\nPublications\\nRefereed Journal Papers\\nArash Abadpour “Rederivation of the Fuzzy-Possibilistic Clustering Objec tive Func-\\ntion through Bayesian Inference ”, Fuzzy Sets and Systems, Accepted for Publication,\\nOctober 2015\\nArash Abadpour “Incorporating spatial context into fuzzy-possibilistic c lustering\\nusing Bayesian inference ”, Journal of Intelligent and Fuzzy Systems, Accepted for\\nPublication, August 2015\\nArash Abadpour “A Sequential Bayesian Alternative to the Classical Paralle l Fuzzy'), Document(id='908327ca-c085-4a76-837b-88310f603128', metadata={}, page_content='April 2008, Pages:1179–1183.\\nH+1 647 567 3487 • Barash.abadpour@gmail.com4/8Arash Abadpour , Attahiru Sule Alfa, and Jeﬀ Diamond, “ Video-on-Demand Net-\\nwork Design And Maintenance Using Fuzzy Optimization ”, IEEE Transactions on\\nSystems, Man, and Cybernetics, Part B, April 2008, Volume 38 , Issue 2, Pages:\\n404–420.\\nArash Abadpour , Attahiru Sule Alfa, “ Approximate algorithms for maximizing the\\ncapacity of the reverse link in multiple-class CDMA systems ”, in Operations Research\\nand Cyber-Infrastructure, M. J. Saltzman, J. W. Chinneck, a nd B. Kristjansson, Eds.\\nSpringer, 2008, Pages: 237–252\\nArash Abadpour and Shohreh Kasaei, “ An Eﬃcient PCA-based Color Transfer ”,\\nVisual Communication & Image Representation, February 200 7, Volume 18, Number\\n1, Pages, 15–34.'), Document(id='c718ba4a-5e7f-4a34-a0e5-8354de3fd88d', metadata={}, page_content='Geospatial ,rasterio, geojson, shape ﬁles, xarray, QGIS, gdal .\\nInsurance ,aerial image analysis for roof and yard content and damage as sessment\\nand object detection, risk modelling .\\nAgritech ,vertical farm/orchard vision applications, tree detectio n and localization,\\nseed/blossom/fruit counting, size estimation, and plant s tatistics .\\nMachine Vision ,camera models, triangulation, pose estimation .\\nMachine Learning ,TensorFlow, PyTorch, MLFLow, Fiftyone, Roboﬂow, Yolo .\\nPython ,OpenCV, Boto3, PyQt, PyMySQL, NumPy, SciPy, Matplotlib, sc ikit-learn,\\nPandas, Seaborn, Jupyter Notebooks, Django .\\nLinux ,bash programming, Ubuntu, Raspbian .\\nCloud ,Amazon S3, Amazon SQS, Amazon EC2, GCS, slurm, Amazon SageMa ker,\\nAWS Batch, Argo Workﬂows .\\nDatabases ,MySQL, Amazon RDS, PostgreSQL .'), Document(id='fb13c484-a99e-4900-a642-2166b3649901', metadata={}, page_content='teaching print samples ”, US Patent 8654398, Publication Date 18 February 2014.\\n“Method and apparatus for object pose estimation ”, US Patent 8467596, Publication\\nDate 18 June 2013.\\nH+1 647 567 3487 • Barash.abadpour@gmail.com2/8Technical Skills\\nDeep Learning ,object detection, object recognition, and semantic segmen tation on\\nsatellite and aerial, mobile and static, RGB and multi-spec tral cameras in production\\nfor insurance and agg .\\nGeoSpatial AI ,active deep learning experience on Venus, Maxar (WorldView ),\\nSentinel-1 and Sentinel-2, RCM, multi-spectral optical an d SAR, in Python and Bash\\non the cloud for semantic segmentation, change detection, c arbon sequestration,\\nobject detection, surveillance, and tasking .\\nGeospatial ,rasterio, geojson, shape ﬁles, xarray, QGIS, gdal .'), Document(id='18d7249f-c81d-4b7b-baa4-6e3763921554', metadata={}, page_content='Visual Communication & Image Representation, February 200 7, Volume 18, Number\\n1, Pages, 15–34.\\nArash Abadpour , Shohreh Kasaei, S. Mohsen Amiri, “ Fast Registration of Remotely-\\nSensed Images for Earthquake Damage Estimation ”, EURASIP Journal on Applied\\nSignal Processing, Volume 2006 (2006), Article ID 76462.\\nArash Abadpour and Shohreh Kasaei. “ Unsupervised, Fast and Eﬃcient Color\\nImage Copy Protection ”, IEE Proceedings Communications, October 2005, Volume\\n152, Issue 5, Pages 605–616.\\nArash Abadpour and Shohreh Kasaei “ Pixel-based Skin Detection for Pornography\\nFiltering ”, Iranian Journal of Electrical and Electronic Engineerin g (IJEEE), July 2005,\\nVolume 1, No. 3, Pages 21–41.\\nRefereed Conference Papers\\nArash Abadpour and Chris Rampersad, “ Quantitative Measurement Of The Im-')]\n",
      "        QUESTION:Recommend a research topic for this person.\n",
      "        ANSWER:\n",
      "        \n",
      "        Given the expertise of Arash Abadpour in machine learning, deep learning, geospatial AI, and computer vision, a potential research topic could be exploring the development of new deep learning models for geospatial image analysis. This could involve developing algorithms for tasks such as object detection, semantic segmentation, and change detection in aerial and satellite imagery. Additionally, research could focus on optimizing these models for deployment on cloud-based platforms and improving their efficiency for large-scale geospatial data processing. Another potential research topic could be exploring the use of deep learning for risk modeling in the insurance industry, such as developing models for predicting property damage based on aerial imagery and other data sources.\n"
     ]
    }
   ],
   "source": [
    "ask = \"Recommend a research topic for this person.\"\n",
    "prompt, docs, ans = answer(db, ask)\n",
    "print(ans)"
   ]
  },
  {
   "cell_type": "code",
   "execution_count": 7,
   "metadata": {
    "colab": {
     "base_uri": "https://localhost:8080/",
     "height": 125
    },
    "executionInfo": {
     "elapsed": 126,
     "status": "ok",
     "timestamp": 1705129027727,
     "user": {
      "displayName": "Gaurav Mishra",
      "userId": "05225046088428816217"
     },
     "user_tz": 300
    },
    "id": "EkoZBooamtqO",
    "outputId": "180af0d6-f37b-48c7-c443-23ccc7716371"
   },
   "outputs": [
    {
     "data": {
      "text/plain": [
       "'Answer the following QUESTION based on the CONTEXT\\n    given. If you do not know the answer and the CONTEXT doesn\\'t\\n    contain the answer truthfully say \"I don\\'t know\"\\n\\n        CONTEXT:[Document(id=\\'cdba225c-2e43-45d9-94b3-1493ecbc75d0\\', metadata={}, page_content=\\'Arash Abadpour\\\\n15+ Years of Hands-On Machine Vision, Deep Learning & Geospa tial AI.\\\\nrepo: github.com/kamangir\\\\nExperience\\\\n2022–2025 Staﬀ Software Engineer ,EarthDaily Analytics, Vancouver, Canada .\\\\nEarthDaily observes, veriﬁes, & predicts changes to the Ear thś surface to help people\\\\nunderstand & take action.\\\\n2022 Senior Machine Learning Engineer (Computer Vision) ,Vivid Machines,\\\\nToronto, Canada .\\\\nSmart technology to help fruit and vegetable farmers optimi ze quality and yield.\\\\n2020–2022 Vice President, Data Science ,Savormetrics Inc., Mississauga, Canada .\\\\nDeep Learning + Food Inspection = Increasing Proﬁts. Reduci ng Waste. Improving Cus-\\\\ntomer Satisfaction.\\\\n2019–2020 Lead Data Scientist ,Betterview Marketplace, San Diego, USA .\\'), Document(id=\\'ff8a041e-4620-4d84-a54f-74a6e7767764\\', metadata={}, page_content=\\'tomer Satisfaction.\\\\n2019–2020 Lead Data Scientist ,Betterview Marketplace, San Diego, USA .\\\\nDesign, development, and deployment of a deep learning fram ework that consumes aerial\\\\nimages and other types of data relevant to the insurance indu stry and produces property\\\\ninsights.\\\\n2016–2019 Senior Scientiﬁc Developer ,Fio Corporation, Toronto, Canada .\\\\nDesign, development, and deployment of a learning-enabled machine vision system that\\\\nvisually identiﬁes and analyzes rapid diagnostics tests (r dt) for infectious diseases such\\\\nas HIV, Malaria, Dengue, Zika, and others. At inference time , the ML models are run\\\\non an android device with limited network and power access. T herefore, battery usage\\\\noptimization and tolerance to long periods of disconnectiv ity were essential considerations.\\'), Document(id=\\'cbee3cc4-9b3a-4118-a767-54d8e90d437d\\', metadata={}, page_content=\\'AWS Batch, Argo Workﬂows .\\\\nDatabases ,MySQL, Amazon RDS, PostgreSQL .\\\\nSoftware Development ,agile development, JIRA, git, gitlab, papertrail, ci/cd,\\\\ndocker .\\\\nHardware ,Jetson, integration w/ cameras and sensors, Raspberry Pi, 3 D design and\\\\nprint, general electronics, general digital electronics, general circuits .\\\\nWeb,Django, Flask, php .\\\\nOther ,LATEX, POV-Ray, IVT, PCL, CImg, OpenGL, Armadillo, Gandalf, Cer es Solver,\\\\nand other open-source tools .\\\\nCertiﬁcations\\\\n2022 AWS Cloud Technical Essentials .\\\\nBy Amazon Web Services on Coursera\\\\nH+1 647 567 3487 • Barash.abadpour@gmail.com3/82019 Deep Learning Specialization ,Five-Course Specialization .\\\\nBy Andrew Ng (deeplearning.ai)\\\\n2017 Neural Networks for Machine Learning .\\\\nBy the University of Toronto on Coursera\\\\n2017 Machine Learning .\\'), Document(id=\\'8dedfb88-b8ad-4817-91fa-a4dbf7a7477b\\', metadata={}, page_content=\\'Arash Abadpour “A Sequential Bayesian Alternative to the Classical Paralle l Fuzzy\\\\nClustering Model ”, Information Sciences, Volume 318, October 2015, Pages 28 –47\\\\nArash Abadpour “On Applications of Pyramid Doubly Joint Bilateral Filterin g in\\\\nDense Disparity Propagation ”, 3D Research, Volume 5, Issue 2, 25 April 2014, Pages\\\\n1–20.\\\\nArash Abadpour , Attahiru Sule Alfa, and Anthony C.K. Soong, “ Approximation\\\\nAlgorithms For Maximizing The Information-Theoretic Sum C apacity of Reverse Link\\\\nCDMA Systems ”, AEU - International Journal of Electronics and Communica tions,\\\\nVolume 63, Issue 2, 4 February 2009, Pages 108–115.\\\\nArash Abadpour and Shohreh Kasaei. “ A Novel Color Image Compression Method\\\\nusing Eigenimages ”, Journal of Iranian Association of Electrical and Electro nics En-\\'), Document(id=\\'4630c68d-7da3-4e7a-b70f-96a520aa9a3c\\', metadata={}, page_content=\\'video resources for copyright protection ”, In the 5th IEEE International Symposium\\\\non Signal Processing and Information Technology (ISSPIT 20 05), Athens, Greece,\\\\npages 369–374, 2005.\\\\nArash Abadpour and Shohreh Kasaei, “ Comprehensive Evaluation of the Pixel-\\\\nBased Skin Detection Approach for Pornography Filtering in the Internet Resources ”,\\\\nIn the International Symposium on Telecommunications, (IS T 2005), Pages 829–834,\\\\nShiraz, Iran, September 2005.\\\\nArash Abadpour and Shohreh Kasaei, “ Wavelet-PCA-Based Compression Method\\\\nfor Color Images (Invited Paper) ”, In the First Symposium on Wavelet and its Appli-\\\\ncations, Tehran, Iran, February 2005.\\\\nArash Abadpour and Shohreh Kasaei, “ An Unsupervised Fast Color Transfer\\'), Document(id=\\'e06d36ad-e022-4363-8e46-2f97edac1bf7\\', metadata={}, page_content=\\'By the University of Toronto on Coursera\\\\n2017 Machine Learning .\\\\nBy Stanford University on Coursera\\\\n2017 Machine Learning ,Four-Course Specialization .\\\\nBy the University of Washington on Coursera\\\\n2013 Patents ,Understanding Patents - An Introductory Course .\\\\nMcGill University School of Continuing Studies\\\\nPublications\\\\nRefereed Journal Papers\\\\nArash Abadpour “Rederivation of the Fuzzy-Possibilistic Clustering Objec tive Func-\\\\ntion through Bayesian Inference ”, Fuzzy Sets and Systems, Accepted for Publication,\\\\nOctober 2015\\\\nArash Abadpour “Incorporating spatial context into fuzzy-possibilistic c lustering\\\\nusing Bayesian inference ”, Journal of Intelligent and Fuzzy Systems, Accepted for\\\\nPublication, August 2015\\\\nArash Abadpour “A Sequential Bayesian Alternative to the Classical Paralle l Fuzzy\\'), Document(id=\\'908327ca-c085-4a76-837b-88310f603128\\', metadata={}, page_content=\\'April 2008, Pages:1179–1183.\\\\nH+1 647 567 3487 • Barash.abadpour@gmail.com4/8Arash Abadpour , Attahiru Sule Alfa, and Jeﬀ Diamond, “ Video-on-Demand Net-\\\\nwork Design And Maintenance Using Fuzzy Optimization ”, IEEE Transactions on\\\\nSystems, Man, and Cybernetics, Part B, April 2008, Volume 38 , Issue 2, Pages:\\\\n404–420.\\\\nArash Abadpour , Attahiru Sule Alfa, “ Approximate algorithms for maximizing the\\\\ncapacity of the reverse link in multiple-class CDMA systems ”, in Operations Research\\\\nand Cyber-Infrastructure, M. J. Saltzman, J. W. Chinneck, a nd B. Kristjansson, Eds.\\\\nSpringer, 2008, Pages: 237–252\\\\nArash Abadpour and Shohreh Kasaei, “ An Eﬃcient PCA-based Color Transfer ”,\\\\nVisual Communication & Image Representation, February 200 7, Volume 18, Number\\\\n1, Pages, 15–34.\\'), Document(id=\\'c718ba4a-5e7f-4a34-a0e5-8354de3fd88d\\', metadata={}, page_content=\\'Geospatial ,rasterio, geojson, shape ﬁles, xarray, QGIS, gdal .\\\\nInsurance ,aerial image analysis for roof and yard content and damage as sessment\\\\nand object detection, risk modelling .\\\\nAgritech ,vertical farm/orchard vision applications, tree detectio n and localization,\\\\nseed/blossom/fruit counting, size estimation, and plant s tatistics .\\\\nMachine Vision ,camera models, triangulation, pose estimation .\\\\nMachine Learning ,TensorFlow, PyTorch, MLFLow, Fiftyone, Roboﬂow, Yolo .\\\\nPython ,OpenCV, Boto3, PyQt, PyMySQL, NumPy, SciPy, Matplotlib, sc ikit-learn,\\\\nPandas, Seaborn, Jupyter Notebooks, Django .\\\\nLinux ,bash programming, Ubuntu, Raspbian .\\\\nCloud ,Amazon S3, Amazon SQS, Amazon EC2, GCS, slurm, Amazon SageMa ker,\\\\nAWS Batch, Argo Workﬂows .\\\\nDatabases ,MySQL, Amazon RDS, PostgreSQL .\\'), Document(id=\\'fb13c484-a99e-4900-a642-2166b3649901\\', metadata={}, page_content=\\'teaching print samples ”, US Patent 8654398, Publication Date 18 February 2014.\\\\n“Method and apparatus for object pose estimation ”, US Patent 8467596, Publication\\\\nDate 18 June 2013.\\\\nH+1 647 567 3487 • Barash.abadpour@gmail.com2/8Technical Skills\\\\nDeep Learning ,object detection, object recognition, and semantic segmen tation on\\\\nsatellite and aerial, mobile and static, RGB and multi-spec tral cameras in production\\\\nfor insurance and agg .\\\\nGeoSpatial AI ,active deep learning experience on Venus, Maxar (WorldView ),\\\\nSentinel-1 and Sentinel-2, RCM, multi-spectral optical an d SAR, in Python and Bash\\\\non the cloud for semantic segmentation, change detection, c arbon sequestration,\\\\nobject detection, surveillance, and tasking .\\\\nGeospatial ,rasterio, geojson, shape ﬁles, xarray, QGIS, gdal .\\'), Document(id=\\'18d7249f-c81d-4b7b-baa4-6e3763921554\\', metadata={}, page_content=\\'Visual Communication & Image Representation, February 200 7, Volume 18, Number\\\\n1, Pages, 15–34.\\\\nArash Abadpour , Shohreh Kasaei, S. Mohsen Amiri, “ Fast Registration of Remotely-\\\\nSensed Images for Earthquake Damage Estimation ”, EURASIP Journal on Applied\\\\nSignal Processing, Volume 2006 (2006), Article ID 76462.\\\\nArash Abadpour and Shohreh Kasaei. “ Unsupervised, Fast and Eﬃcient Color\\\\nImage Copy Protection ”, IEE Proceedings Communications, October 2005, Volume\\\\n152, Issue 5, Pages 605–616.\\\\nArash Abadpour and Shohreh Kasaei “ Pixel-based Skin Detection for Pornography\\\\nFiltering ”, Iranian Journal of Electrical and Electronic Engineerin g (IJEEE), July 2005,\\\\nVolume 1, No. 3, Pages 21–41.\\\\nRefereed Conference Papers\\\\nArash Abadpour and Chris Rampersad, “ Quantitative Measurement Of The Im-\\')]\\n        QUESTION:Recommend a research topic for this person.\\n        ANSWER:\\n        \\n        Given the expertise of Arash Abadpour in machine learning, deep learning, geospatial AI, and computer vision, a potential research topic could be exploring the development of new deep learning models for geospatial image analysis. This could involve developing algorithms for tasks such as object detection, semantic segmentation, and change detection in aerial and satellite imagery. Additionally, research could focus on optimizing these models for deployment on cloud-based platforms and improving their efficiency for large-scale geospatial data processing. Another potential research topic could be exploring the use of deep learning for risk modeling in the insurance industry, such as developing models for predicting property damage based on aerial imagery and other data sources.'"
      ]
     },
     "execution_count": 7,
     "metadata": {},
     "output_type": "execute_result"
    }
   ],
   "source": [
    "ans"
   ]
  },
  {
   "cell_type": "code",
   "execution_count": 8,
   "metadata": {
    "id": "-9GqzzgykU41"
   },
   "outputs": [],
   "source": [
    "# END"
   ]
  }
 ],
 "metadata": {
  "colab": {
   "authorship_tag": "ABX9TyOZP7aqfKD+CTpcAN6h2HMC",
   "mount_file_id": "1y4JDFX35oOA7tNsSO4ASOFr2zr9bDCCH",
   "provenance": []
  },
  "kernelspec": {
   "display_name": "base",
   "language": "python",
   "name": "python3"
  },
  "language_info": {
   "codemirror_mode": {
    "name": "ipython",
    "version": 3
   },
   "file_extension": ".py",
   "mimetype": "text/x-python",
   "name": "python",
   "nbconvert_exporter": "python",
   "pygments_lexer": "ipython3",
   "version": "3.12.9"
  }
 },
 "nbformat": 4,
 "nbformat_minor": 0
}
